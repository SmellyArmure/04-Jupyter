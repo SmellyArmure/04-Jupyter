{
 "cells": [
  {
   "cell_type": "code",
   "execution_count": 26,
   "metadata": {},
   "outputs": [],
   "source": [
    "import matplotlib.pyplot as plt\n",
    "import numpy as np\n",
    "import pandas as pd\n",
    "%matplotlib inline\n",
    "\n",
    "from sklearn import linear_model\n",
    "from sklearn.metrics import mean_squared_error, r2_score"
   ]
  },
  {
   "cell_type": "markdown",
   "metadata": {},
   "source": [
    "# Chargement des données et visualisation\n",
    "\n",
    "Voici les données qu'Hubble a compilées dans les années 20 :"
   ]
  },
  {
   "cell_type": "code",
   "execution_count": 27,
   "metadata": {},
   "outputs": [
    {
     "name": "stdout",
     "output_type": "stream",
     "text": [
      "    distance  recession_velocity\n",
      "0      0.032                 170\n",
      "1      0.034                 290\n",
      "2      0.214                -130\n",
      "3      0.263                 -70\n",
      "4      0.275                -185\n",
      "5      0.275                -220\n",
      "6      0.450                 200\n",
      "7      0.500                 290\n",
      "8      0.500                 270\n",
      "9      0.630                 200\n",
      "10     0.800                 300\n",
      "11     0.900                 -30\n",
      "12     0.900                 650\n",
      "13     0.900                 150\n",
      "14     0.900                 500\n",
      "15     1.000                 920\n",
      "16     1.100                 450\n",
      "17     1.100                 500\n",
      "18     1.400                 500\n",
      "19     1.700                 960\n",
      "20     2.000                 500\n",
      "21     2.000                 850\n",
      "22     2.000                 800\n",
      "23     2.000                1090\n"
     ]
    }
   ],
   "source": [
    "hubble_df = pd.read_csv(\"hubble_data.csv\", sep=\",\") # charge les données du fichier Hubble.csv dans un framework Pandas\n",
    "print(hubble_df)"
   ]
  },
  {
   "cell_type": "markdown",
   "metadata": {},
   "source": [
    "...sinon on peut faire sans print aussi :"
   ]
  },
  {
   "cell_type": "code",
   "execution_count": 28,
   "metadata": {},
   "outputs": [
    {
     "data": {
      "text/html": [
       "<div>\n",
       "<style scoped>\n",
       "    .dataframe tbody tr th:only-of-type {\n",
       "        vertical-align: middle;\n",
       "    }\n",
       "\n",
       "    .dataframe tbody tr th {\n",
       "        vertical-align: top;\n",
       "    }\n",
       "\n",
       "    .dataframe thead th {\n",
       "        text-align: right;\n",
       "    }\n",
       "</style>\n",
       "<table border=\"1\" class=\"dataframe\">\n",
       "  <thead>\n",
       "    <tr style=\"text-align: right;\">\n",
       "      <th></th>\n",
       "      <th>distance</th>\n",
       "      <th>recession_velocity</th>\n",
       "    </tr>\n",
       "  </thead>\n",
       "  <tbody>\n",
       "    <tr>\n",
       "      <th>0</th>\n",
       "      <td>0.032</td>\n",
       "      <td>170</td>\n",
       "    </tr>\n",
       "    <tr>\n",
       "      <th>1</th>\n",
       "      <td>0.034</td>\n",
       "      <td>290</td>\n",
       "    </tr>\n",
       "    <tr>\n",
       "      <th>2</th>\n",
       "      <td>0.214</td>\n",
       "      <td>-130</td>\n",
       "    </tr>\n",
       "  </tbody>\n",
       "</table>\n",
       "</div>"
      ],
      "text/plain": [
       "   distance  recession_velocity\n",
       "0     0.032                 170\n",
       "1     0.034                 290\n",
       "2     0.214                -130"
      ]
     },
     "execution_count": 28,
     "metadata": {},
     "output_type": "execute_result"
    }
   ],
   "source": [
    "hubble_df\n",
    "hubble_df.head(3) # pratique quand le tableau est trop grand..."
   ]
  },
  {
   "cell_type": "markdown",
   "metadata": {},
   "source": [
    "Les voici représentées en un nuage de points :"
   ]
  },
  {
   "cell_type": "code",
   "execution_count": 31,
   "metadata": {},
   "outputs": [
    {
     "name": "stdout",
     "output_type": "stream",
     "text": [
      "[0.032 0.034 0.214 0.263 0.275 0.275 0.45  0.5   0.5   0.63  0.8   0.9\n",
      " 0.9   0.9   0.9   1.    1.1   1.1   1.4   1.7   2.    2.    2.    2.   ]\n"
     ]
    },
    {
     "data": {
      "image/png": "[encoded data removed]",
      "text/plain": [
       "<Figure size 432x288 with 1 Axes>"
      ]
     },
     "metadata": {
      "needs_background": "light"
     },
     "output_type": "display_data"
    }
   ],
   "source": [
    "plt.title(\"Données Hubble 1929\\n (éloignement des galaxies en fonction\\n \\\n",
    "de leur distance à la terre)\",fontweight=\"bold\",fontsize=13)\n",
    "plt.xlabel(\"distance (pc)\")\n",
    "plt.ylabel(\"vitesse (km/s)\")\n",
    "\n",
    "x = np.array(hubble_df[\"distance\"].values) # ici on extrait seulement les valeurs bien que ...\n",
    "y = np.array(hubble_df[\"recession_velocity\"].values) # ...cela ne soit pas absolument nécessaire.\n",
    "plot = plt.scatter(x,y,s=50,color='b',edgecolors='k',)"
   ]
  },
  {
   "cell_type": "markdown",
   "metadata": {},
   "source": [
    "Créons maintenant un modèle de la répartition de ces données grâce à une régression linéaire (moindres carrés) appliquée à l'ensemble des données disponibles :"
   ]
  },
  {
   "cell_type": "code",
   "execution_count": 6,
   "metadata": {},
   "outputs": [],
   "source": [
    "regr = linear_model.LinearRegression() # Crée un objet \"régression linéaire\"\n",
    "\n",
    "x1 = x[:, np.newaxis] # les méthodes \"fit\" et \"predict\" ont besoin d'un tableau ...\n",
    "y1 = y[:, np.newaxis]  # ...où les données sont chacune dans une ligne\n",
    "\n",
    "regr.fit(x1, y1) # effectue la régression sur l'ensemble des données\n",
    "y_pred = regr.predict(x1) # calcul des y à partir des x en se basant sur la droite des moindres carrés"
   ]
  },
  {
   "cell_type": "markdown",
   "metadata": {},
   "source": [
    "Et affichons le résultat obtenu :"
   ]
  },
  {
   "cell_type": "code",
   "execution_count": 7,
   "metadata": {},
   "outputs": [
    {
     "data": {
      "image/png": "[encoded data removed]",
      "text/plain": [
       "<Figure size 432x288 with 1 Axes>"
      ]
     },
     "metadata": {
      "needs_background": "light"
     },
     "output_type": "display_data"
    }
   ],
   "source": [
    "plt.title(\"Données Hubble 1929\\n (éloignement des galaxies en fonction\\n \\\n",
    "de leur distance à la terre)\",fontweight=\"bold\",fontsize=13)\n",
    "plt.xlabel(\"distance (pc)\")\n",
    "plt.ylabel(\"vitesse (km/s)\")\n",
    "a, = plt.plot(x1,y1,'o',linestyle = ' ', markersize=5,markeredgecolor='k', markerfacecolor='red', label='données', zorder=10)\n",
    "b, = plt.plot(x,y_pred,linestyle = '--', color='black', linewidth=1, label='régression linéaire',zorder=5)\n",
    "plt.legend(handles=[a,b]).set_zorder(100)\n",
    "plt.show()"
   ]
  },
  {
   "cell_type": "markdown",
   "metadata": {},
   "source": [
    "# Bonus\n",
    "\n",
    "Ici, vérifions que la régression linéaire de scikit learn est correcte."
   ]
  },
  {
   "cell_type": "markdown",
   "metadata": {},
   "source": [
    "## Calculs préliminaires\n",
    "Calculons d'abord les moyennes, variances et covariance des données dont nous aurons besoin :"
   ]
  },
  {
   "cell_type": "code",
   "execution_count": 8,
   "metadata": {},
   "outputs": [
    {
     "name": "stdout",
     "output_type": "stream",
     "text": [
      "---Calculs de la variance (légères différences possibles) :\n",
      "numpy : 0.39930373437499994\n",
      "définition : 0.3993037343750001\n",
      "König-Huygens : 0.39930373437499994\n",
      "\n",
      "---Calculs de la covariance concordant (légères différences possibles) :\n",
      "numpy : 181.3471614583333\n",
      "définition : 181.34716145833332\n",
      "König-Huygens : 181.34716145833335\n"
     ]
    }
   ],
   "source": [
    "x_moy = np.mean(x)\n",
    "y_moy = np.mean(y)\n",
    "\n",
    "# variance de x\n",
    "var_x_np = np.var(x)\n",
    "var_x = np.mean(np.power(x,2)- np.power(x_moy,2)) # moyenne des carrés de x - produit de la moyenne de x\n",
    "var_x_bis = np.mean(np.power(x-x_moy,2)) # moyenne des carrés des écarts de x à la moyenne\n",
    "print(\"---Calculs de la variance (légères différences possibles) :\")\n",
    "print(\"numpy :\",var_x_np)\n",
    "print(\"définition :\", var_x)\n",
    "print(\"König-Huygens :\", var_x_bis)\n",
    "\n",
    "# covariance de x,y : moyenne des produits (plusieurs manières de faire le calcul)\n",
    "cov_xy_np = np.cov(x,y,bias=True)[0][1] # attention à ne pas oublier bias = True !!! (ou ddof=0)\n",
    "cov_xy = np.mean((x-x_moy)*(y-y_moy))  # moyenne du produit des écarts de x à xmoy et y à ymoy\n",
    "cov_xy_bis = np.mean(x*y)- x_moy*y_moy # moyenne du produit des x et y - produit des moyennes\n",
    "print(\"\\n---Calculs de la covariance concordant (légères différences possibles) :\")\n",
    "print(\"numpy :\",cov_xy_np)\n",
    "print(\"définition :\", cov_xy)\n",
    "print(\"König-Huygens :\", cov_xy_bis)"
   ]
  },
  {
   "cell_type": "markdown",
   "metadata": {},
   "source": [
    "## Calculs des coefficients de l'équation de la droite\n",
    "\n",
    "Puis maintenant calculons le coefficient directeur et l'ordonnée à l'origine de la droite correspondant à la régression :"
   ]
  },
  {
   "cell_type": "code",
   "execution_count": 9,
   "metadata": {},
   "outputs": [
    {
     "name": "stdout",
     "output_type": "stream",
     "text": [
      "\n",
      "---Pente de la droite de régression linéaire : 454.15844092262836\n",
      "via calculs : 454.15844092262836\n",
      "via scikit learn : [[454.15844092]]\n",
      "\n",
      "---Ordonnée à l'origine : -40.78364909586037\n",
      "via calculs : -40.78364909586037\n",
      "via scikit learn : [-40.7836491]\n"
     ]
    }
   ],
   "source": [
    "# pente de la droite de la régression\n",
    "\n",
    "a = cov_xy_np/var_x_np # cela se démontre...\n",
    "print(\"\\n---Pente de la droite de régression linéaire : {}\".format(a))\n",
    "print(\"via calculs :\", a)\n",
    "print(\"via scikit learn :\", regr.coef_)\n",
    "\n",
    "b = y_moy-a*x_moy # ... et cela aussi.\n",
    "print(\"\\n---Ordonnée à l'origine : {}\".format(b))\n",
    "print(\"via calculs :\", b)\n",
    "print(\"via scikit learn :\", regr.intercept_)\n"
   ]
  },
  {
   "cell_type": "markdown",
   "metadata": {},
   "source": [
    "## Autres calculs...\n",
    "\n",
    "Voici également quelques indicateurs statistiques disponibles :"
   ]
  },
  {
   "cell_type": "code",
   "execution_count": 24,
   "metadata": {},
   "outputs": [
    {
     "name": "stdout",
     "output_type": "stream",
     "text": [
      "Coefficients: \n",
      " [[454.15844092]]\n",
      "Coefficients: \n",
      " [-40.7836491]\n",
      "Erreur quadratique moyenne : 270267.80\n",
      "Score de variance : -676846.66\n",
      "Score de la régression linéaire : 0.6235305209067517\n"
     ]
    }
   ],
   "source": [
    "print('Coefficients: \\n', regr.coef_)\n",
    "print('Coefficients: \\n', regr.intercept_)\n",
    "print(\"Erreur quadratique moyenne : %.2f\" % mean_squared_error(x, y))\n",
    "print('Score de variance : %.2f' % r2_score(x, y)) # 1 : prédiction parfaite\n",
    "print('Score de la régression linéaire :', regr.score(x1,y1))"
   ]
  },
  {
   "cell_type": "markdown",
   "metadata": {},
   "source": [
    "## ... et pour le plaisir, un tracé final.\n",
    "\n",
    "Ici, on s'est amusé à personnaliser la légende grace au calcul effectué plus haut :"
   ]
  },
  {
   "cell_type": "code",
   "execution_count": 11,
   "metadata": {},
   "outputs": [
    {
     "data": {
      "image/png": "[encoded data removed]",
      "text/plain": [
       "<Figure size 432x288 with 1 Axes>"
      ]
     },
     "metadata": {
      "needs_background": "light"
     },
     "output_type": "display_data"
    }
   ],
   "source": [
    "plt.title(\"Données Hubble 1929\\n (éloignement des galaxies en fonction\\n \\\n",
    "de leur distance à la terre)\",fontweight=\"bold\",fontsize=13)\n",
    "plt.xlabel(\"distance (pc)\")\n",
    "plt.ylabel(\"vitesse (km/s)\")\n",
    "a, = plt.plot(x1,y1,'o',linestyle = ' ', markersize=5,markeredgecolor='k', \\\n",
    "    markerfacecolor='red', label='données', zorder=10)\n",
    "b, = plt.plot(x,y_pred,linestyle = '--', color='black', linewidth=1,\\\n",
    "    label=\"régression linéaire :\\ny = {:8.2f}x + {:8.2f}\".format(regr.coef_[0,0],regr.intercept_[0]) ,zorder=5)\n",
    "plt.legend(handles=[a,b]).set_zorder(100)\n",
    "plt.show()"
   ]
  }
 ],
 "metadata": {
  "kernelspec": {
   "display_name": "Python 3",
   "language": "python",
   "name": "python3"
  },
  "language_info": {
   "codemirror_mode": {
    "name": "ipython",
    "version": 3
   },
   "file_extension": ".py",
   "mimetype": "text/x-python",
   "name": "python",
   "nbconvert_exporter": "python",
   "pygments_lexer": "ipython3",
   "version": "3.7.0"
  }
 },
 "nbformat": 4,
 "nbformat_minor": 2
}
