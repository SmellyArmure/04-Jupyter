{
 "cells": [
  {
   "cell_type": "code",
   "execution_count": 2,
   "metadata": {},
   "outputs": [],
   "source": [
    "from random import seed, randint\n",
    "import matplotlib.pyplot as plt\n",
    "import numpy as np\n",
    "from random import seed, randint"
   ]
  },
  {
   "cell_type": "code",
   "execution_count": 3,
   "metadata": {},
   "outputs": [
    {
     "name": "stdout",
     "output_type": "stream",
     "text": [
      "([0, 1, 2, 3, 4, 5], <class 'int'>) [0 1 2 3 4 5] [0 1 2 3 4 5]\n"
     ]
    }
   ],
   "source": [
    "# Tableaux Python et Numpy\n",
    "var = ([0,1,2,3,4,5],int)\n",
    "varPy = np.array(range (0,6))\n",
    "varNp = np.arange(0,6)\n",
    "print(var, varPy, varNp)"
   ]
  },
  {
   "cell_type": "code",
   "execution_count": 8,
   "metadata": {},
   "outputs": [
    {
     "name": "stdout",
     "output_type": "stream",
     "text": [
      "nombre aléatoire Py : 73\n",
      "nombre aléatoire Py : 4\n",
      "nombre aléatoire Py : 73\n",
      "nombre aléatoire Py : 4\n",
      "nombre aléatoire np : 9\n",
      "nombre aléatoire np : 15\n",
      "nombre aléatoire np : 9\n",
      "nombre aléatoire np : 15\n"
     ]
    }
   ],
   "source": [
    "# Génération de tableaux de nbes aléatoires en Python \n",
    "seed(10)\n",
    "print(\"nombre aléatoire Py : {}\".format(randint(0,100)))\n",
    "print(\"nombre aléatoire Py : {}\".format(randint(0,100)))\n",
    "seed(10)\n",
    "print(\"nombre aléatoire Py : {}\".format(randint(0,100)))\n",
    "print(\"nombre aléatoire Py : {}\".format(randint(0,100)))\n",
    "\n",
    "# Génération de tableaux de nbes anléatoires avec NumPy \n",
    "np.random.seed(10)\n",
    "print(\"nombre aléatoire np : {}\".format(np.random.randint(0,100)))\n",
    "print(\"nombre aléatoire np : {}\".format(np.random.randint(0,100)))\n",
    "np.random.seed(10)\n",
    "print(\"nombre aléatoire np : {}\".format(np.random.randint(0,100)))\n",
    "print(\"nombre aléatoire np : {}\".format(np.random.randint(0,100)))"
   ]
  },
  {
   "cell_type": "code",
   "execution_count": 9,
   "metadata": {},
   "outputs": [
    {
     "name": "stdout",
     "output_type": "stream",
     "text": [
      "<class 'numpy.ndarray'> <class 'numpy.ndarray'>\n",
      "(50,) (50,)\n"
     ]
    },
    {
     "data": {
      "image/png": "[encoded data removed]",
      "text/plain": [
       "<Figure size 432x288 with 1 Axes>"
      ]
     },
     "metadata": {
      "needs_background": "light"
     },
     "output_type": "display_data"
    }
   ],
   "source": [
    "# Génération de nbes aléatoire à répartition normale avec NumPy \n",
    "x = np.arange(50)\n",
    "y = np.random.normal(2,4, size=(50,))\n",
    "print(type(x), type(y))\n",
    "print(x.shape, y.shape)\n",
    "plt.scatter(x,y)\n",
    "plt.show()"
   ]
  },
  {
   "cell_type": "code",
   "execution_count": 13,
   "metadata": {},
   "outputs": [
    {
     "name": "stdout",
     "output_type": "stream",
     "text": [
      "[[0 5 9 0 4 6]\n",
      " [6 0 2 3 3 2]]\n",
      "nbe de dimensions :  2\n",
      "forme :  (2, 6)\n",
      "taille   12\n",
      "type des données :  int32\n"
     ]
    }
   ],
   "source": [
    "# Obtenir les propriétés d'un tableau NumPy\n",
    "tab = np.random.randint(10, size=(2,6))  # Tableau de dimension 1\n",
    "print(tab)\n",
    "print(\"nbe de dimensions : \", tab.ndim)\n",
    "print(\"forme : \", tab.shape)\n",
    "print(\"taille  \", tab.size)\n",
    "print(\"type des données : \", tab.dtype)"
   ]
  },
  {
   "cell_type": "code",
   "execution_count": 45,
   "metadata": {},
   "outputs": [
    {
     "name": "stdout",
     "output_type": "stream",
     "text": [
      "(5,)\n",
      "(5,)\n",
      "[ True  True  True  True  True]\n",
      "[ True  True  True  True  True]\n",
      "[[1]\n",
      " [0]\n",
      " [2]\n",
      " [2]\n",
      " [1]]\n",
      "[[1 1 1 1 1]\n",
      " [0 0 0 0 0]\n",
      " [2 2 2 2 2]\n",
      " [2 2 2 2 2]\n",
      " [1 1 1 1 1]]\n",
      "[[1 1 1 1 1 5]\n",
      " [0 0 0 0 0 4]\n",
      " [2 2 2 2 2 3]\n",
      " [2 2 2 2 2 2]\n",
      " [1 1 1 1 1 1]]\n",
      "[[1 1 1 1 1 5 5]\n",
      " [0 0 0 0 0 4 4]\n",
      " [2 2 2 2 2 3 3]\n",
      " [2 2 2 2 2 2 2]\n",
      " [1 1 1 1 1 1 1]]\n"
     ]
    }
   ],
   "source": [
    "# A EXPLORER : méthode .repeat -> différence avec .full ?\n",
    "tab1 = np.repeat([True],5,axis=0) # utilisation de axis ????\n",
    "tab2 = np.full((5,),True) # permet d'avoir des tableau de la taille souhaitée\n",
    "print(tab1.shape)\n",
    "print(tab2.shape)\n",
    "print(tab1)\n",
    "print(tab2)\n",
    "\n",
    "premier_choix=np.random.randint(3,size=(5,1))\n",
    "print(premier_choix)\n",
    "premier_choix=np.repeat(premier_choix,5,axis=1)\n",
    "print(premier_choix)"
   ]
  },
  {
   "cell_type": "code",
   "execution_count": 46,
   "metadata": {},
   "outputs": [
    {
     "name": "stdout",
     "output_type": "stream",
     "text": [
      "[[1 2 3 4]\n",
      " [9 8 7 4]\n",
      " [6 5 4 4]]\n",
      "[[1]\n",
      " [2]\n",
      " [3]\n",
      " [4]\n",
      " [9]\n",
      " [8]\n",
      " [7]\n",
      " [4]\n",
      " [6]\n",
      " [5]\n",
      " [4]\n",
      " [4]]\n",
      "[1 2 3 4 9 8 7 4 6 5 4 4]\n",
      "[[ 0  1 10 20]\n",
      " [-1 -2 30 40]]\n",
      "[1 2 3 4 5 6]\n",
      "[[1 1 1 1 1 5 5]\n",
      " [0 0 0 0 0 4 4]\n",
      " [2 2 2 2 2 3 3]\n",
      " [2 2 2 2 2 2 2]\n",
      " [1 1 1 1 1 1 1]]\n",
      "[[1 1 1 1 1 5 5 5]\n",
      " [0 0 0 0 0 4 4 4]\n",
      " [2 2 2 2 2 3 3 3]\n",
      " [2 2 2 2 2 2 2 2]\n",
      " [1 1 1 1 1 1 1 1]]\n"
     ]
    }
   ],
   "source": [
    "# Concaténation et changement de forme\n",
    "\n",
    "# vstack\n",
    "x = np.array([1, 2, 3,4])\n",
    "grid = np.array([[9, 8, 7,4],[6, 5, 4,4]])\n",
    "tableau = np.vstack([x, grid])\n",
    "print(tableau)\n",
    "\n",
    "# reshape\n",
    "tableau = np.reshape(tableau, (12,1))\n",
    "print(tableau)\n",
    "\n",
    "#flatten\n",
    "tableau = np.ndarray.flatten(tableau)\n",
    "print(tableau)\n",
    "\n",
    "# hstack\n",
    "x = np.array([[0,1],[-1,-2]])\n",
    "grid = np.array([[10, 20],\n",
    "                 [30, 40]])\n",
    "tableau = np.hstack([x, grid])\n",
    "print(tableau)\n",
    "\n",
    "# concatenate\n",
    "x = np.array([1, 2, 3])\n",
    "y = np.array([4, 5, 6])\n",
    "print(np.concatenate([x, y]))\n",
    "\n",
    "# Comparaison hstack concatenate\n",
    "premier_choix=np.concatenate((premier_choix,[[5],[4],[3],[2],[1]]),axis=1) # comme hstack finalement\n",
    "premier_choixbis=np.hstack((premier_choix,[[5],[4],[3],[2],[1]]))\n",
    "\n",
    "print(premier_choix)\n",
    "print(premier_choixbis)"
   ]
  },
  {
   "cell_type": "code",
   "execution_count": 48,
   "metadata": {},
   "outputs": [
    {
     "name": "stdout",
     "output_type": "stream",
     "text": [
      "[[0]\n",
      " [1]\n",
      " [2]\n",
      " [3]\n",
      " [4]]\n"
     ]
    }
   ],
   "source": [
    "# A EXPLORER : utilisation de np.newaxis ?????\n",
    "numjoueur=np.arange(5)\n",
    "numjoueur=numjoueur[:,np.newaxis]\n",
    "print(numjoueur)"
   ]
  },
  {
   "cell_type": "code",
   "execution_count": null,
   "metadata": {},
   "outputs": [],
   "source": []
  },
  {
   "cell_type": "code",
   "execution_count": null,
   "metadata": {},
   "outputs": [],
   "source": []
  }
 ],
 "metadata": {
  "kernelspec": {
   "display_name": "Python 3",
   "language": "python",
   "name": "python3"
  },
  "language_info": {
   "codemirror_mode": {
    "name": "ipython",
    "version": 3
   },
   "file_extension": ".py",
   "mimetype": "text/x-python",
   "name": "python",
   "nbconvert_exporter": "python",
   "pygments_lexer": "ipython3",
   "version": "3.7.0"
  }
 },
 "nbformat": 4,
 "nbformat_minor": 2
}
