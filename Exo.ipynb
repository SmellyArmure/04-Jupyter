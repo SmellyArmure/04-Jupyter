{
 "cells": [
  {
   "cell_type": "code",
   "execution_count": 28,
   "metadata": {},
   "outputs": [],
   "source": [
    "import random\n",
    "import matplotlib.pyplot as plt\n",
    "import numpy as np\n",
    "from random import seed, randint"
   ]
  },
  {
   "cell_type": "code",
   "execution_count": 93,
   "metadata": {},
   "outputs": [
    {
     "name": "stdout",
     "output_type": "stream",
     "text": [
      "([0, 1, 2, 3, 4, 5], <class 'int'>) [0 1 2 3 4 5] [0 1 2 3 4 5]\n"
     ]
    }
   ],
   "source": [
    "var = ([0,1,2,3,4,5],int)\n",
    "varPy = np.array(range (0,6))\n",
    "varNp = np.arange(0,6)\n",
    "print(var, varPy, varNp)"
   ]
  },
  {
   "cell_type": "code",
   "execution_count": 30,
   "metadata": {},
   "outputs": [
    {
     "name": "stdout",
     "output_type": "stream",
     "text": [
      "nombre aléatoire : 73\n",
      "nombre aléatoire : 4\n"
     ]
    }
   ],
   "source": [
    "seed(10)\n",
    "print(\"nombre aléatoire : {}\".format(randint(0,100)))\n",
    "print(\"nombre aléatoire : {}\".format(randint(0,100)))"
   ]
  },
  {
   "cell_type": "code",
   "execution_count": 41,
   "metadata": {},
   "outputs": [
    {
     "name": "stdout",
     "output_type": "stream",
     "text": [
      "<class 'numpy.ndarray'> <class 'numpy.ndarray'>\n",
      "(50,) (50,)\n"
     ]
    },
    {
     "data": {
      "text/plain": [
       "<matplotlib.collections.PathCollection at 0x2dd320a87b8>"
      ]
     },
     "execution_count": 41,
     "metadata": {},
     "output_type": "execute_result"
    },
    {
     "data": {
      "image/png": "[encoded data removed]",
      "text/plain": [
       "<Figure size 432x288 with 1 Axes>"
      ]
     },
     "metadata": {
      "needs_background": "light"
     },
     "output_type": "display_data"
    }
   ],
   "source": [
    "x = np.arange(50)\n",
    "y = np.random.normal(2,4, size=(50,))\n",
    "print(type(x), type(y))\n",
    "print(x.shape, y.shape)\n",
    "plt.scatter(x,y)"
   ]
  },
  {
   "cell_type": "code",
   "execution_count": 47,
   "metadata": {},
   "outputs": [
    {
     "name": "stdout",
     "output_type": "stream",
     "text": [
      "[[5 0 3 3 7 9]\n",
      " [3 5 2 4 7 6]]\n",
      "nombre de dimensions de x1:  2\n",
      "forme de x1:  (2, 6)\n",
      "taille de x1:  12\n",
      "type de x1:  int32\n"
     ]
    }
   ],
   "source": [
    "np.random.seed(0)\n",
    "x1 = np.random.randint(10, size=(2,6))  # Tableau de dimension 1\n",
    "print(x1)\n",
    "print(\"nombre de dimensions de x1: \", x1.ndim)\n",
    "print(\"forme de x1: \", x1.shape)\n",
    "print(\"taille de x1: \", x1.size)\n",
    "print(\"type de x1: \", x1.dtype)"
   ]
  },
  {
   "cell_type": "code",
   "execution_count": 52,
   "metadata": {},
   "outputs": [
    {
     "name": "stdout",
     "output_type": "stream",
     "text": [
      "(5,)\n"
     ]
    }
   ],
   "source": [
    "print(np.repeat([True],5,axis=0).shape)"
   ]
  },
  {
   "cell_type": "code",
   "execution_count": 88,
   "metadata": {},
   "outputs": [
    {
     "name": "stdout",
     "output_type": "stream",
     "text": [
      "[[1 2 3 4]\n",
      " [9 8 7 4]\n",
      " [6 5 4 4]]\n",
      "[[1]\n",
      " [2]\n",
      " [3]\n",
      " [4]\n",
      " [9]\n",
      " [8]\n",
      " [7]\n",
      " [4]\n",
      " [6]\n",
      " [5]\n",
      " [4]\n",
      " [4]]\n",
      "[1 2 3 4 9 8 7 4 6 5 4 4]\n",
      "[[ 0  1  9  8  7  4]\n",
      " [-1 -2  6  5  4  4]]\n"
     ]
    }
   ],
   "source": [
    "x = np.array([1, 2, 3,4])\n",
    "grid = np.array([[9, 8, 7,4],\n",
    "                 [6, 5, 4,4]])\n",
    "tableau = np.vstack([x, grid])\n",
    "print(tableau)\n",
    "\n",
    "\n",
    "\n",
    "tableau = np.reshape(tableau, (12,1))\n",
    "print(tableau)\n",
    "\n",
    "tableau = np.ndarray.flatten(tableau)\n",
    "print(tableau)\n",
    "\n",
    "x = np.array([[0,1],[-1,-2]])\n",
    "grid = np.array([[10, 20],\n",
    "                 [30, 40]])\n",
    "tableau = np.hstack([x, grid])\n",
    "print(tableau)\n"
   ]
  },
  {
   "cell_type": "code",
   "execution_count": 55,
   "metadata": {},
   "outputs": [
    {
     "data": {
      "text/plain": [
       "array([1, 2, 3, 4, 5, 6])"
      ]
     },
     "execution_count": 55,
     "metadata": {},
     "output_type": "execute_result"
    }
   ],
   "source": [
    "x = np.array([1, 2, 3])\n",
    "y = np.array([4, 5, 6])\n",
    "np.concatenate([x, y])"
   ]
  },
  {
   "cell_type": "code",
   "execution_count": 12,
   "metadata": {},
   "outputs": [
    {
     "name": "stdout",
     "output_type": "stream",
     "text": [
      "[[2]\n",
      " [0]\n",
      " [1]\n",
      " [1]\n",
      " [0]\n",
      " [1]\n",
      " [2]\n",
      " [0]\n",
      " [2]\n",
      " [2]]\n",
      "[[0 1 2 0]\n",
      " [0 1 2 1]\n",
      " [0 1 2 2]\n",
      " [0 1 2 3]\n",
      " [0 1 2 4]\n",
      " [0 1 2 5]\n",
      " [0 1 2 6]\n",
      " [0 1 2 7]\n",
      " [0 1 2 8]\n",
      " [0 1 2 9]]\n",
      "[[0 1 0]\n",
      " [1 2 1]\n",
      " [0 2 2]\n",
      " [0 2 3]\n",
      " [1 2 4]\n",
      " [0 2 5]\n",
      " [0 1 6]\n",
      " [1 2 7]\n",
      " [0 1 8]\n",
      " [0 1 9]]\n"
     ]
    }
   ],
   "source": [
    "import numpy as np\n",
    "nb_tour=10\n",
    "x=np.array([[0,1,2]])\n",
    "porte=np.repeat(x,nb_tour,axis=0)\n",
    "\n",
    "numjoueur=np.arange(nb_tour)\n",
    "numjoueur=numjoueur[:,np.newaxis]\n",
    "\n",
    "porte=np.concatenate((porte,numjoueur),axis=1)  \n",
    "\n",
    "bonne_porte=np.random.randint(3,size=(nb_tour,1))\n",
    "\n",
    "premier_choix=np.random.randint(3,size=(nb_tour,1))\n",
    "premier_choix_dim3=np.repeat(premier_choix,3,axis=1)\n",
    "premier_choix_dim4=np.concatenate((premier_choix_dim3,numjoueur),axis=1)\n",
    "\n",
    "print(premier_choix)\n",
    "\n",
    "condition=(porte!=premier_choix_dim4)\n",
    "condition[:,3]=np.repeat([True],nb_tour,axis=0)\n",
    "print(porte)\n",
    "porte_restante=porte[condition]\n",
    "\n",
    "porte_restante=np.reshape(porte_restante,(nb_tour,3))\n",
    "print(porte_restante)\n",
    "porte=porte_restante\n"
   ]
  },
  {
   "cell_type": "code",
   "execution_count": null,
   "metadata": {},
   "outputs": [],
   "source": []
  }
 ],
 "metadata": {
  "kernelspec": {
   "display_name": "Python 3",
   "language": "python",
   "name": "python3"
  },
  "language_info": {
   "codemirror_mode": {
    "name": "ipython",
    "version": 3
   },
   "file_extension": ".py",
   "mimetype": "text/x-python",
   "name": "python",
   "nbconvert_exporter": "python",
   "pygments_lexer": "ipython3",
   "version": "3.7.0"
  }
 },
 "nbformat": 4,
 "nbformat_minor": 2
}
