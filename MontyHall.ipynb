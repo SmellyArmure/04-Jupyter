{
 "cells": [
  {
   "cell_type": "code",
   "execution_count": 137,
   "metadata": {},
   "outputs": [
    {
     "name": "stdout",
     "output_type": "stream",
     "text": [
      "1 2 3\n"
     ]
    }
   ],
   "source": [
    "import random\n",
    "tabgob = range(1,4)\n",
    "print(tabgob[0],tabgob[1],tabgob[2])\n",
    "# donne la liste des numéros des trois gobelets possibles"
   ]
  },
  {
   "cell_type": "code",
   "execution_count": 138,
   "metadata": {},
   "outputs": [],
   "source": [
    "# tire le numéro du gobelet gagnant entre 1 et 3\n",
    "def tirage():\n",
    "    return random.randint(1,3)"
   ]
  },
  {
   "cell_type": "code",
   "execution_count": 139,
   "metadata": {},
   "outputs": [],
   "source": [
    "def gobrestant(tabgob, tiralea, chxj):\n",
    "    if tiralea == chxj:\n",
    "        tabgob.pop(tabgob.index(tiralea)) #retire de la liste celui qui est gagnant\n",
    "        tabgob.pop(random.randint(0,1)) #retire un des deux perdants au hasard\n",
    "    else:\n",
    "        tabgob.pop(tabgob.index(tiralea)) #retire de la liste celui qui est gagnant\n",
    "        tabgob.pop(random.index(tiralea)) #retire de la liste celui qu'il avait choisi\n",
    "    return tabgob[0] # retourne le gobelet restant"
   ]
  },
  {
   "cell_type": "code",
   "execution_count": 140,
   "metadata": {},
   "outputs": [],
   "source": [
    "def choixJ1():\n",
    "    return random.randint(1,3)\n",
    "def choixJ2():\n",
    "    return gobrestant(range(1,4),tirage(), random.randint(1,3))"
   ]
  },
  {
   "cell_type": "code",
   "execution_count": 141,
   "metadata": {},
   "outputs": [],
   "source": [
    "def verdict(tirage,choix):\n",
    "    if tirage==choix:\n",
    "        return 1\n",
    "    else:\n",
    "        return 0"
   ]
  },
  {
   "cell_type": "code",
   "execution_count": 142,
   "metadata": {},
   "outputs": [],
   "source": [
    "def cohorteJ1(nbe):\n",
    "    tab = []\n",
    "    for i in range(0,nbe):\n",
    "        tab.append(verdict(tirage(),choixJ1()))\n",
    "    return tab\n",
    "def cohorteJ2(nbe):\n",
    "    tab = []\n",
    "    for i in range(0,nbe):\n",
    "        tab.append(verdict(tirage(),choixJ2()))\n",
    "    return tab"
   ]
  },
  {
   "cell_type": "code",
   "execution_count": 143,
   "metadata": {},
   "outputs": [],
   "source": [
    "def compte(tabl):\n",
    "    cpt = 0\n",
    "    for i in range(0,len(tabl)):\n",
    "        cpt += tabl[i] \n",
    "    return (cpt, tabl)"
   ]
  },
  {
   "cell_type": "code",
   "execution_count": 144,
   "metadata": {},
   "outputs": [
    {
     "name": "stdout",
     "output_type": "stream",
     "text": [
      "(3, [0, 0, 1, 1, 0, 1, 0, 0, 0, 0])\n"
     ]
    }
   ],
   "source": [
    "tabgob = range(1,4)\n",
    "print(compte(cohorteJ1(10)))\n",
    "#print(compte(cohorteJ2(10)))"
   ]
  },
  {
   "cell_type": "code",
   "execution_count": 145,
   "metadata": {},
   "outputs": [
    {
     "ename": "AttributeError",
     "evalue": "module 'random' has no attribute 'index'",
     "output_type": "error",
     "traceback": [
      "\u001b[1;31m---------------------------------------------------------------------------\u001b[0m",
      "\u001b[1;31mAttributeError\u001b[0m                            Traceback (most recent call last)",
      "\u001b[1;32m<ipython-input-145-416c81f05412>\u001b[0m in \u001b[0;36m<module>\u001b[1;34m()\u001b[0m\n\u001b[0;32m      2\u001b[0m \u001b[0mtir\u001b[0m \u001b[1;33m=\u001b[0m \u001b[0mtirage\u001b[0m\u001b[1;33m(\u001b[0m\u001b[1;33m)\u001b[0m\u001b[1;33m\u001b[0m\u001b[0m\n\u001b[0;32m      3\u001b[0m \u001b[0mchxj\u001b[0m \u001b[1;33m=\u001b[0m \u001b[0mtirage\u001b[0m\u001b[1;33m(\u001b[0m\u001b[1;33m)\u001b[0m\u001b[1;33m\u001b[0m\u001b[0m\n\u001b[1;32m----> 4\u001b[1;33m \u001b[0mgobrestant\u001b[0m\u001b[1;33m(\u001b[0m\u001b[0mmytab\u001b[0m\u001b[1;33m,\u001b[0m\u001b[0mtir\u001b[0m\u001b[1;33m,\u001b[0m\u001b[0mchxj\u001b[0m\u001b[1;33m)\u001b[0m\u001b[1;33m\u001b[0m\u001b[0m\n\u001b[0m",
      "\u001b[1;32m<ipython-input-139-52bb2a13fd6e>\u001b[0m in \u001b[0;36mgobrestant\u001b[1;34m(tabgob, tiralea, chxj)\u001b[0m\n\u001b[0;32m      5\u001b[0m     \u001b[1;32melse\u001b[0m\u001b[1;33m:\u001b[0m\u001b[1;33m\u001b[0m\u001b[0m\n\u001b[0;32m      6\u001b[0m         \u001b[0mtabgob\u001b[0m\u001b[1;33m.\u001b[0m\u001b[0mpop\u001b[0m\u001b[1;33m(\u001b[0m\u001b[0mtabgob\u001b[0m\u001b[1;33m.\u001b[0m\u001b[0mindex\u001b[0m\u001b[1;33m(\u001b[0m\u001b[0mtiralea\u001b[0m\u001b[1;33m)\u001b[0m\u001b[1;33m)\u001b[0m \u001b[1;31m#retire de la liste celui qui est gagnant\u001b[0m\u001b[1;33m\u001b[0m\u001b[0m\n\u001b[1;32m----> 7\u001b[1;33m         \u001b[0mtabgob\u001b[0m\u001b[1;33m.\u001b[0m\u001b[0mpop\u001b[0m\u001b[1;33m(\u001b[0m\u001b[0mrandom\u001b[0m\u001b[1;33m.\u001b[0m\u001b[0mindex\u001b[0m\u001b[1;33m(\u001b[0m\u001b[0mtiralea\u001b[0m\u001b[1;33m)\u001b[0m\u001b[1;33m)\u001b[0m \u001b[1;31m#retire de la liste celui qu'il avait choisi\u001b[0m\u001b[1;33m\u001b[0m\u001b[0m\n\u001b[0m\u001b[0;32m      8\u001b[0m     \u001b[1;32mreturn\u001b[0m \u001b[0mtabgob\u001b[0m\u001b[1;33m[\u001b[0m\u001b[1;36m0\u001b[0m\u001b[1;33m]\u001b[0m \u001b[1;31m# retourne le gobelet restant\u001b[0m\u001b[1;33m\u001b[0m\u001b[0m\n",
      "\u001b[1;31mAttributeError\u001b[0m: module 'random' has no attribute 'index'"
     ]
    }
   ],
   "source": [
    "mytab = [1,2,3]\n",
    "tir = tirage()\n",
    "chxj = tirage()\n",
    "gobrestant(mytab,tir,chxj)"
   ]
  },
  {
   "cell_type": "code",
   "execution_count": 146,
   "metadata": {},
   "outputs": [
    {
     "name": "stdout",
     "output_type": "stream",
     "text": [
      "1\n"
     ]
    }
   ],
   "source": [
    "print(random.randint(1,3))"
   ]
  },
  {
   "cell_type": "code",
   "execution_count": null,
   "metadata": {},
   "outputs": [],
   "source": []
  },
  {
   "cell_type": "code",
   "execution_count": null,
   "metadata": {},
   "outputs": [],
   "source": []
  }
 ],
 "metadata": {
  "kernelspec": {
   "display_name": "Python 3",
   "language": "python",
   "name": "python3"
  },
  "language_info": {
   "codemirror_mode": {
    "name": "ipython",
    "version": 3
   },
   "file_extension": ".py",
   "mimetype": "text/x-python",
   "name": "python",
   "nbconvert_exporter": "python",
   "pygments_lexer": "ipython3",
   "version": "3.7.0"
  }
 },
 "nbformat": 4,
 "nbformat_minor": 2
}
