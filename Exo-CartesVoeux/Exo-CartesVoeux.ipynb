{
 "cells": [
  {
   "cell_type": "code",
   "execution_count": 2,
   "metadata": {},
   "outputs": [],
   "source": [
    "import pandas as pd\n",
    "import numpy as np\n",
    "import matplotlib.pyplot as plt\n",
    "% matplotlib inline\n",
    "from datetime import date\n",
    "import calendar"
   ]
  },
  {
   "cell_type": "code",
   "execution_count": 3,
   "metadata": {},
   "outputs": [],
   "source": [
    "# importe les données dans un dataframe\n",
    "birth_df = pd.read_csv(\"birth.csv\", sep=\",\")"
   ]
  },
  {
   "cell_type": "code",
   "execution_count": 195,
   "metadata": {},
   "outputs": [
    {
     "name": "stdout",
     "output_type": "stream",
     "text": [
      "Nombre total de lignes : 14265\n",
      "Nombre de non nul par colonne : gender      14265\n",
      "births      14265\n",
      "date        14265\n",
      "day_week    13819\n",
      "dtype: int64\n"
     ]
    },
    {
     "data": {
      "text/html": [
       "<div>\n",
       "<style scoped>\n",
       "    .dataframe tbody tr th:only-of-type {\n",
       "        vertical-align: middle;\n",
       "    }\n",
       "\n",
       "    .dataframe tbody tr th {\n",
       "        vertical-align: top;\n",
       "    }\n",
       "\n",
       "    .dataframe thead th {\n",
       "        text-align: right;\n",
       "    }\n",
       "</style>\n",
       "<table border=\"1\" class=\"dataframe\">\n",
       "  <thead>\n",
       "    <tr style=\"text-align: right;\">\n",
       "      <th></th>\n",
       "      <th>gender</th>\n",
       "      <th>births</th>\n",
       "      <th>date</th>\n",
       "      <th>day_week</th>\n",
       "    </tr>\n",
       "  </thead>\n",
       "  <tbody>\n",
       "    <tr>\n",
       "      <th>0</th>\n",
       "      <td>F</td>\n",
       "      <td>4046.0</td>\n",
       "      <td>1969-01-01</td>\n",
       "      <td>Wednesday</td>\n",
       "    </tr>\n",
       "    <tr>\n",
       "      <th>1</th>\n",
       "      <td>M</td>\n",
       "      <td>4440.0</td>\n",
       "      <td>1969-01-01</td>\n",
       "      <td>Wednesday</td>\n",
       "    </tr>\n",
       "    <tr>\n",
       "      <th>2</th>\n",
       "      <td>F</td>\n",
       "      <td>4454.0</td>\n",
       "      <td>1969-01-02</td>\n",
       "      <td>Thursday</td>\n",
       "    </tr>\n",
       "  </tbody>\n",
       "</table>\n",
       "</div>"
      ],
      "text/plain": [
       "  gender  births       date   day_week\n",
       "0      F  4046.0 1969-01-01  Wednesday\n",
       "1      M  4440.0 1969-01-01  Wednesday\n",
       "2      F  4454.0 1969-01-02   Thursday"
      ]
     },
     "execution_count": 195,
     "metadata": {},
     "output_type": "execute_result"
    }
   ],
   "source": [
    "print(\"Nombre total de lignes :\", birth_df.index.size)\n",
    "print(\"Nombre de non nul par colonne :\",birth_df.count())  # count compte seulmt les valeurs renseignées de chaque colonne (!= de .size, qui compte tout)\n",
    "# En comptant les éléments par colonne on s'aperçoit que seuls certains jours ne sont pas renseignés\n",
    "\n",
    "birth_df.head(3)"
   ]
  },
  {
   "cell_type": "code",
   "execution_count": 5,
   "metadata": {},
   "outputs": [
    {
     "name": "stdout",
     "output_type": "stream",
     "text": [
      "Nbe de lignes, avant nettoyage : 15547\n",
      "Nbe de lignes, après nettoyage : 14717\n"
     ]
    }
   ],
   "source": [
    "print(\"Nbe de lignes, avant nettoyage :\" , birth_df.index.size)\n",
    "\n",
    "# élimination des lignes dont l'année, le mois ou le jour n'est pas renseigné\n",
    "birth_df.dropna(subset = ['year','month','day'], inplace=True)\n",
    "\n",
    "# on garde seulement les lignes dont les années sont entre 1900 et 2019\n",
    "#cond_y = pd.Series((birth_df.year < 2019)&(birth_df.year > 1900))\n",
    "\n",
    "# on garde seulement les lignes dont les mois sont compris entre 1 et 12\n",
    "#cond_m = pd.Series([birth_df.month[i] in range (1,13) for i in range(len(birth_df.month))])\n",
    "\n",
    "# on garde seulement les lignes dont les jours sont compris entre 1 et 31\n",
    "cond_d = pd.Series([birth_df.day.values[i] in range (1,32) for i in range(len(birth_df.day))], \\\n",
    "                   index = birth_df.day.index)\n",
    "\n",
    "birth_df = birth_df.where(cond_d).dropna()\n",
    "\n",
    "# nbe de lignes après triage\n",
    "print(\"Nbe de lignes, après nettoyage :\", birth_df.index.size)"
   ]
  },
  {
   "cell_type": "code",
   "execution_count": 6,
   "metadata": {},
   "outputs": [],
   "source": [
    "# Crée une dataframe contenant les données pour former les dates\n",
    "\n",
    "date_df = pd.DataFrame({'year':birth_df.year.values.astype(int),\\\n",
    "                        'month':birth_df.month.values.astype(int),\\\n",
    "                        'day':birth_df.day.values.astype(int)})\n",
    "date_ser = pd.to_datetime(date_df,errors='coerce') # type \"Series\"\n",
    "\n",
    "birth_df[\"date\"] = date_ser\n",
    "birth_df.drop(columns = [\"year\", \"month\", \"day\"], inplace=True)"
   ]
  },
  {
   "cell_type": "code",
   "execution_count": 7,
   "metadata": {},
   "outputs": [
    {
     "name": "stdout",
     "output_type": "stream",
     "text": [
      "Nbe de lignes, après nettoyage : 14265\n"
     ]
    },
    {
     "data": {
      "text/html": [
       "<div>\n",
       "<style scoped>\n",
       "    .dataframe tbody tr th:only-of-type {\n",
       "        vertical-align: middle;\n",
       "    }\n",
       "\n",
       "    .dataframe tbody tr th {\n",
       "        vertical-align: top;\n",
       "    }\n",
       "\n",
       "    .dataframe thead th {\n",
       "        text-align: right;\n",
       "    }\n",
       "</style>\n",
       "<table border=\"1\" class=\"dataframe\">\n",
       "  <thead>\n",
       "    <tr style=\"text-align: right;\">\n",
       "      <th></th>\n",
       "      <th>gender</th>\n",
       "      <th>births</th>\n",
       "      <th>date</th>\n",
       "    </tr>\n",
       "  </thead>\n",
       "  <tbody>\n",
       "    <tr>\n",
       "      <th>0</th>\n",
       "      <td>F</td>\n",
       "      <td>4046.0</td>\n",
       "      <td>1969-01-01</td>\n",
       "    </tr>\n",
       "    <tr>\n",
       "      <th>1</th>\n",
       "      <td>M</td>\n",
       "      <td>4440.0</td>\n",
       "      <td>1969-01-01</td>\n",
       "    </tr>\n",
       "    <tr>\n",
       "      <th>2</th>\n",
       "      <td>F</td>\n",
       "      <td>4454.0</td>\n",
       "      <td>1969-01-02</td>\n",
       "    </tr>\n",
       "    <tr>\n",
       "      <th>3</th>\n",
       "      <td>M</td>\n",
       "      <td>4548.0</td>\n",
       "      <td>1969-01-02</td>\n",
       "    </tr>\n",
       "    <tr>\n",
       "      <th>4</th>\n",
       "      <td>F</td>\n",
       "      <td>4548.0</td>\n",
       "      <td>1969-01-03</td>\n",
       "    </tr>\n",
       "  </tbody>\n",
       "</table>\n",
       "</div>"
      ],
      "text/plain": [
       "  gender  births       date\n",
       "0      F  4046.0 1969-01-01\n",
       "1      M  4440.0 1969-01-01\n",
       "2      F  4454.0 1969-01-02\n",
       "3      M  4548.0 1969-01-02\n",
       "4      F  4548.0 1969-01-03"
      ]
     },
     "execution_count": 7,
     "metadata": {},
     "output_type": "execute_result"
    }
   ],
   "source": [
    "# élimination des lignes dont l'année, le mois et le jour forment une date qui n'existe pas\n",
    "# notamment les 29 janvier d'années non bissextile\n",
    "birth_df = birth_df.dropna(subset = ['date'])\n",
    "\n",
    "# nbe de lignes après triage\n",
    "print(\"Nbe de lignes, après nettoyage :\", birth_df.index.size)\n",
    "\n",
    "birth_df.head(5)"
   ]
  },
  {
   "cell_type": "code",
   "execution_count": 104,
   "metadata": {},
   "outputs": [],
   "source": [
    "# ajout d'une nouvelle colonne indiquant le nom du jour de naissance\n",
    "\n",
    "tab = [calendar.day_name[birth_df.iloc[i].date.weekday()] for i in range(birth_df.index.size)]\n",
    "\n",
    "day_week_ser = pd.Series(tab)\n",
    "birth_df[\"day_week\"] = day_week_ser"
   ]
  },
  {
   "cell_type": "code",
   "execution_count": 106,
   "metadata": {},
   "outputs": [
    {
     "data": {
      "text/html": [
       "<div>\n",
       "<style scoped>\n",
       "    .dataframe tbody tr th:only-of-type {\n",
       "        vertical-align: middle;\n",
       "    }\n",
       "\n",
       "    .dataframe tbody tr th {\n",
       "        vertical-align: top;\n",
       "    }\n",
       "\n",
       "    .dataframe thead th {\n",
       "        text-align: right;\n",
       "    }\n",
       "</style>\n",
       "<table border=\"1\" class=\"dataframe\">\n",
       "  <thead>\n",
       "    <tr style=\"text-align: right;\">\n",
       "      <th></th>\n",
       "      <th>gender</th>\n",
       "      <th>births</th>\n",
       "      <th>date</th>\n",
       "      <th>day_week</th>\n",
       "    </tr>\n",
       "  </thead>\n",
       "  <tbody>\n",
       "    <tr>\n",
       "      <th>0</th>\n",
       "      <td>F</td>\n",
       "      <td>4046.0</td>\n",
       "      <td>1969-01-01</td>\n",
       "      <td>Wednesday</td>\n",
       "    </tr>\n",
       "    <tr>\n",
       "      <th>1</th>\n",
       "      <td>M</td>\n",
       "      <td>4440.0</td>\n",
       "      <td>1969-01-01</td>\n",
       "      <td>Wednesday</td>\n",
       "    </tr>\n",
       "    <tr>\n",
       "      <th>2</th>\n",
       "      <td>F</td>\n",
       "      <td>4454.0</td>\n",
       "      <td>1969-01-02</td>\n",
       "      <td>Thursday</td>\n",
       "    </tr>\n",
       "    <tr>\n",
       "      <th>3</th>\n",
       "      <td>M</td>\n",
       "      <td>4548.0</td>\n",
       "      <td>1969-01-02</td>\n",
       "      <td>Thursday</td>\n",
       "    </tr>\n",
       "    <tr>\n",
       "      <th>4</th>\n",
       "      <td>F</td>\n",
       "      <td>4548.0</td>\n",
       "      <td>1969-01-03</td>\n",
       "      <td>Friday</td>\n",
       "    </tr>\n",
       "    <tr>\n",
       "      <th>5</th>\n",
       "      <td>M</td>\n",
       "      <td>4994.0</td>\n",
       "      <td>1969-01-03</td>\n",
       "      <td>Friday</td>\n",
       "    </tr>\n",
       "    <tr>\n",
       "      <th>6</th>\n",
       "      <td>F</td>\n",
       "      <td>4440.0</td>\n",
       "      <td>1969-01-04</td>\n",
       "      <td>Saturday</td>\n",
       "    </tr>\n",
       "    <tr>\n",
       "      <th>7</th>\n",
       "      <td>M</td>\n",
       "      <td>4520.0</td>\n",
       "      <td>1969-01-04</td>\n",
       "      <td>Saturday</td>\n",
       "    </tr>\n",
       "    <tr>\n",
       "      <th>8</th>\n",
       "      <td>F</td>\n",
       "      <td>4192.0</td>\n",
       "      <td>1969-01-05</td>\n",
       "      <td>Sunday</td>\n",
       "    </tr>\n",
       "    <tr>\n",
       "      <th>9</th>\n",
       "      <td>M</td>\n",
       "      <td>4198.0</td>\n",
       "      <td>1969-01-05</td>\n",
       "      <td>Sunday</td>\n",
       "    </tr>\n",
       "  </tbody>\n",
       "</table>\n",
       "</div>"
      ],
      "text/plain": [
       "  gender  births       date   day_week\n",
       "0      F  4046.0 1969-01-01  Wednesday\n",
       "1      M  4440.0 1969-01-01  Wednesday\n",
       "2      F  4454.0 1969-01-02   Thursday\n",
       "3      M  4548.0 1969-01-02   Thursday\n",
       "4      F  4548.0 1969-01-03     Friday\n",
       "5      M  4994.0 1969-01-03     Friday\n",
       "6      F  4440.0 1969-01-04   Saturday\n",
       "7      M  4520.0 1969-01-04   Saturday\n",
       "8      F  4192.0 1969-01-05     Sunday\n",
       "9      M  4198.0 1969-01-05     Sunday"
      ]
     },
     "execution_count": 106,
     "metadata": {},
     "output_type": "execute_result"
    }
   ],
   "source": [
    "birth_df.head(10)"
   ]
  },
  {
   "cell_type": "code",
   "execution_count": 122,
   "metadata": {},
   "outputs": [],
   "source": [
    "birth_pt = birth_df.pivot_table('births', index ='gender', columns = 'day_week', aggfunc = \"sum\")"
   ]
  },
  {
   "cell_type": "code",
   "execution_count": 123,
   "metadata": {},
   "outputs": [
    {
     "data": {
      "text/html": [
       "<div>\n",
       "<style scoped>\n",
       "    .dataframe tbody tr th:only-of-type {\n",
       "        vertical-align: middle;\n",
       "    }\n",
       "\n",
       "    .dataframe tbody tr th {\n",
       "        vertical-align: top;\n",
       "    }\n",
       "\n",
       "    .dataframe thead th {\n",
       "        text-align: right;\n",
       "    }\n",
       "</style>\n",
       "<table border=\"1\" class=\"dataframe\">\n",
       "  <thead>\n",
       "    <tr style=\"text-align: right;\">\n",
       "      <th>day_week</th>\n",
       "      <th>Friday</th>\n",
       "      <th>Monday</th>\n",
       "      <th>Saturday</th>\n",
       "      <th>Sunday</th>\n",
       "      <th>Thursday</th>\n",
       "      <th>Tuesday</th>\n",
       "      <th>Wednesday</th>\n",
       "    </tr>\n",
       "    <tr>\n",
       "      <th>gender</th>\n",
       "      <th></th>\n",
       "      <th></th>\n",
       "      <th></th>\n",
       "      <th></th>\n",
       "      <th></th>\n",
       "      <th></th>\n",
       "      <th></th>\n",
       "    </tr>\n",
       "  </thead>\n",
       "  <tbody>\n",
       "    <tr>\n",
       "      <th>F</th>\n",
       "      <td>4549799.0</td>\n",
       "      <td>4580154.0</td>\n",
       "      <td>4590412.0</td>\n",
       "      <td>4563892.0</td>\n",
       "      <td>4589039.0</td>\n",
       "      <td>4554823.0</td>\n",
       "      <td>4614031.0</td>\n",
       "    </tr>\n",
       "    <tr>\n",
       "      <th>M</th>\n",
       "      <td>4814687.0</td>\n",
       "      <td>4775277.0</td>\n",
       "      <td>4850106.0</td>\n",
       "      <td>4827271.0</td>\n",
       "      <td>4851082.0</td>\n",
       "      <td>4790185.0</td>\n",
       "      <td>4832452.0</td>\n",
       "    </tr>\n",
       "  </tbody>\n",
       "</table>\n",
       "</div>"
      ],
      "text/plain": [
       "day_week     Friday     Monday   Saturday     Sunday   Thursday    Tuesday  \\\n",
       "gender                                                                       \n",
       "F         4549799.0  4580154.0  4590412.0  4563892.0  4589039.0  4554823.0   \n",
       "M         4814687.0  4775277.0  4850106.0  4827271.0  4851082.0  4790185.0   \n",
       "\n",
       "day_week  Wednesday  \n",
       "gender               \n",
       "F         4614031.0  \n",
       "M         4832452.0  "
      ]
     },
     "execution_count": 123,
     "metadata": {},
     "output_type": "execute_result"
    }
   ],
   "source": [
    "birth_pt"
   ]
  },
  {
   "cell_type": "code",
   "execution_count": 221,
   "metadata": {},
   "outputs": [
    {
     "data": {
      "image/png": "[encoded data removed]",
      "text/plain": [
       "<Figure size 576x216 with 1 Axes>"
      ]
     },
     "metadata": {
      "needs_background": "light"
     },
     "output_type": "display_data"
    }
   ],
   "source": [
    "l1 = birth_pt.loc['M'].values\n",
    "l2 = birth_pt.loc['F'].values\n",
    "ind = birth_pt.loc['M'].index\n",
    "\n",
    "y_min = np.min(l1)*0.9/1e6\n",
    "y_max = np.min(l1)*1.1/1e6\n",
    "\n",
    "fig = plt.figure(figsize=(8,3))\n",
    "\n",
    "plt.bar(range(len(l1)),l1/1000000,edgecolor='k', color='b', label='hommes')\n",
    "plt.bar(range(len(l2)),l2/1000000,edgecolor='k', color='r', label='femmes')\n",
    "\n",
    "plt.title(\"Nombre de naissances\\n(de 1969 à 1988)\",fontweight=\"bold\")\n",
    "plt.xlabel(\"Jour de la semaine\")\n",
    "plt.ylabel(\"Naissances (millions)\")\n",
    "plt.axis([-0.5, 6.5, y_min, y_max])\n",
    "plt.rcParams.update({'font.size': 15})\n",
    "plt.grid(color='g', linestyle='dotted')\n",
    "plt.xticks(range(7), ind, rotation=30)\n",
    "plt.legend(loc='upper right')\n",
    "\n",
    "plt.show()\n",
    "\n"
   ]
  },
  {
   "cell_type": "code",
   "execution_count": null,
   "metadata": {},
   "outputs": [],
   "source": []
  }
 ],
 "metadata": {
  "kernelspec": {
   "display_name": "Python 3",
   "language": "python",
   "name": "python3"
  },
  "language_info": {
   "codemirror_mode": {
    "name": "ipython",
    "version": 3
   },
   "file_extension": ".py",
   "mimetype": "text/x-python",
   "name": "python",
   "nbconvert_exporter": "python",
   "pygments_lexer": "ipython3",
   "version": "3.7.0"
  }
 },
 "nbformat": 4,
 "nbformat_minor": 2
}
