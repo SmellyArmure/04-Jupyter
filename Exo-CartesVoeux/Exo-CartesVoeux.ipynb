{
 "cells": [
  {
   "cell_type": "code",
   "execution_count": 394,
   "metadata": {},
   "outputs": [],
   "source": [
    "import pandas as pd\n",
    "import numpy as np\n",
    "import matplotlib.pyplot as plt\n",
    "% matplotlib inline\n",
    "from datetime import date\n",
    "import calendar"
   ]
  },
  {
   "cell_type": "code",
   "execution_count": 508,
   "metadata": {},
   "outputs": [],
   "source": [
    "# importe les données dans un dataframe\n",
    "birth_df = pd.read_csv(\"birth.csv\", sep=\",\")"
   ]
  },
  {
   "cell_type": "code",
   "execution_count": 509,
   "metadata": {},
   "outputs": [
    {
     "name": "stdout",
     "output_type": "stream",
     "text": [
      "Nombre total de lignes : 15547\n",
      "Nombre de non nul par colonne : year      15547\n",
      "month     15547\n",
      "day       15067\n",
      "gender    15547\n",
      "births    15547\n",
      "dtype: int64\n"
     ]
    }
   ],
   "source": [
    "birth_df.head(3)\n",
    "print(\"Nombre total de lignes :\", birth_df.index.size)\n",
    "print(\"Nombre de non nul par colonne :\",birth_df.count())  # count compte seulmt les valeurs renseignées de chaque colonne (!= de .size, qui compte tout)\n",
    "# En comptant les éléments par colonne on s'aperçoit que seuls certains jours ne sont pas renseignés"
   ]
  },
  {
   "cell_type": "code",
   "execution_count": 510,
   "metadata": {},
   "outputs": [
    {
     "name": "stdout",
     "output_type": "stream",
     "text": [
      "Nbe de lignes, avant nettoyage : 15547\n",
      "Nbe de lignes, après nettoyage : 14717\n"
     ]
    }
   ],
   "source": [
    "print(\"Nbe de lignes, avant nettoyage :\" , birth_df.index.size)\n",
    "\n",
    "# élimination des lignes dont l'année, le mois ou le jour n'est pas renseigné\n",
    "birth_df.dropna(subset = ['year','month','day'], inplace=True)\n",
    "\n",
    "# on garde seulement les lignes dont les années sont entre 1900 et 2019\n",
    "#cond_y = pd.Series((birth_df.year < 2019)&(birth_df.year > 1900))\n",
    "\n",
    "# on garde seulement les lignes dont les mois sont compris entre 1 et 12\n",
    "#cond_m = pd.Series([birth_df.month[i] in range (1,13) for i in range(len(birth_df.month))])\n",
    "\n",
    "# on garde seulement les lignes dont les jours sont compris entre 1 et 31\n",
    "cond_d = pd.Series([birth_df.day.values[i] in range (1,32) for i in range(len(birth_df.day))], \\\n",
    "                   index = birth_df.day.index)\n",
    "\n",
    "birth_df = birth_df.where(cond_d).dropna()\n",
    "\n",
    "# nbe de lignes après triage\n",
    "print(\"Nbe de lignes, après nettoyage :\", birth_df.index.size)"
   ]
  },
  {
   "cell_type": "code",
   "execution_count": 511,
   "metadata": {},
   "outputs": [],
   "source": [
    "# Crée une dataframe contenant les données pour former les dates\n",
    "\n",
    "date_df = pd.DataFrame({'year':birth_df.year.values.astype(int),\\\n",
    "                        'month':birth_df.month.values.astype(int),\\\n",
    "                        'day':birth_df.day.values.astype(int)})\n",
    "date_ser = pd.to_datetime(date_df,errors='coerce') # type \"Series\"\n",
    "\n",
    "birth_df[\"date\"] = date_ser\n",
    "birth_df.drop(columns = [\"year\", \"month\", \"day\"], inplace=True)"
   ]
  },
  {
   "cell_type": "code",
   "execution_count": 513,
   "metadata": {},
   "outputs": [
    {
     "name": "stdout",
     "output_type": "stream",
     "text": [
      "Nbe de lignes, après nettoyage : 14265\n"
     ]
    },
    {
     "data": {
      "text/html": [
       "<div>\n",
       "<style scoped>\n",
       "    .dataframe tbody tr th:only-of-type {\n",
       "        vertical-align: middle;\n",
       "    }\n",
       "\n",
       "    .dataframe tbody tr th {\n",
       "        vertical-align: top;\n",
       "    }\n",
       "\n",
       "    .dataframe thead th {\n",
       "        text-align: right;\n",
       "    }\n",
       "</style>\n",
       "<table border=\"1\" class=\"dataframe\">\n",
       "  <thead>\n",
       "    <tr style=\"text-align: right;\">\n",
       "      <th></th>\n",
       "      <th>gender</th>\n",
       "      <th>births</th>\n",
       "      <th>date</th>\n",
       "    </tr>\n",
       "  </thead>\n",
       "  <tbody>\n",
       "    <tr>\n",
       "      <th>0</th>\n",
       "      <td>F</td>\n",
       "      <td>4046.0</td>\n",
       "      <td>1969-01-01</td>\n",
       "    </tr>\n",
       "    <tr>\n",
       "      <th>1</th>\n",
       "      <td>M</td>\n",
       "      <td>4440.0</td>\n",
       "      <td>1969-01-01</td>\n",
       "    </tr>\n",
       "    <tr>\n",
       "      <th>2</th>\n",
       "      <td>F</td>\n",
       "      <td>4454.0</td>\n",
       "      <td>1969-01-02</td>\n",
       "    </tr>\n",
       "    <tr>\n",
       "      <th>3</th>\n",
       "      <td>M</td>\n",
       "      <td>4548.0</td>\n",
       "      <td>1969-01-02</td>\n",
       "    </tr>\n",
       "    <tr>\n",
       "      <th>4</th>\n",
       "      <td>F</td>\n",
       "      <td>4548.0</td>\n",
       "      <td>1969-01-03</td>\n",
       "    </tr>\n",
       "  </tbody>\n",
       "</table>\n",
       "</div>"
      ],
      "text/plain": [
       "  gender  births       date\n",
       "0      F  4046.0 1969-01-01\n",
       "1      M  4440.0 1969-01-01\n",
       "2      F  4454.0 1969-01-02\n",
       "3      M  4548.0 1969-01-02\n",
       "4      F  4548.0 1969-01-03"
      ]
     },
     "execution_count": 513,
     "metadata": {},
     "output_type": "execute_result"
    }
   ],
   "source": [
    "# élimination des lignes dont l'année, le mois et le jour forment une date qui n'existe pas\n",
    "# notamment les 29 janvier d'années non bissextile\n",
    "birth_df = birth_df.dropna(subset = ['date'])\n",
    "\n",
    "# nbe de lignes après triage\n",
    "print(\"Nbe de lignes, après nettoyage :\", birth_df.index.size)\n",
    "\n",
    "birth_df.head(5)"
   ]
  },
  {
   "cell_type": "code",
   "execution_count": 520,
   "metadata": {},
   "outputs": [
    {
     "data": {
      "text/plain": [
       "'Friday'"
      ]
     },
     "execution_count": 520,
     "metadata": {},
     "output_type": "execute_result"
    }
   ],
   "source": [
    "#my_date = date.today()\n",
    "#print(my_date)\n",
    "#print(my_date.weekday())\n",
    "\n",
    "#print(calendar.day_name[0]) # Monday\n",
    "calendar.day_name[birth_df.date[150].weekday()]\n",
    "#newserie = pd.Series([calendar.day_name[birth_df.date[i].weekday()] for i in range(birth_df.index.size))])\n",
    "#birth_df[\"day_week\"] = \n",
    "#newserie.head(3)\n",
    "\n",
    "#birth_df.head(5)\n",
    "\n",
    "#jours_tab = [calendar.day_name[date_tab[i].weekday()] for i in range(len(date_tab))]\n",
    "#jours_df = pd.DataFrame(jours_tab, columns = ['day_week']) "
   ]
  },
  {
   "cell_type": "code",
   "execution_count": 219,
   "metadata": {},
   "outputs": [
    {
     "name": "stderr",
     "output_type": "stream",
     "text": [
      "C:\\ProgramData\\Anaconda3\\lib\\site-packages\\ipykernel_launcher.py:6: UserWarning: Boolean Series key will be reindexed to match DataFrame index.\n",
      "  \n"
     ]
    },
    {
     "data": {
      "text/html": [
       "<div>\n",
       "<style scoped>\n",
       "    .dataframe tbody tr th:only-of-type {\n",
       "        vertical-align: middle;\n",
       "    }\n",
       "\n",
       "    .dataframe tbody tr th {\n",
       "        vertical-align: top;\n",
       "    }\n",
       "\n",
       "    .dataframe thead th {\n",
       "        text-align: right;\n",
       "    }\n",
       "</style>\n",
       "<table border=\"1\" class=\"dataframe\">\n",
       "  <thead>\n",
       "    <tr style=\"text-align: right;\">\n",
       "      <th></th>\n",
       "      <th>year</th>\n",
       "      <th>month</th>\n",
       "      <th>day</th>\n",
       "      <th>gender</th>\n",
       "      <th>births</th>\n",
       "      <th>day_week</th>\n",
       "    </tr>\n",
       "  </thead>\n",
       "  <tbody>\n",
       "    <tr>\n",
       "      <th>10207</th>\n",
       "      <td>1982</td>\n",
       "      <td>6</td>\n",
       "      <td>11.0</td>\n",
       "      <td>F</td>\n",
       "      <td>5159</td>\n",
       "      <td>Sunday</td>\n",
       "    </tr>\n",
       "    <tr>\n",
       "      <th>10208</th>\n",
       "      <td>1982</td>\n",
       "      <td>6</td>\n",
       "      <td>11.0</td>\n",
       "      <td>M</td>\n",
       "      <td>5470</td>\n",
       "      <td>Sunday</td>\n",
       "    </tr>\n",
       "  </tbody>\n",
       "</table>\n",
       "</div>"
      ],
      "text/plain": [
       "       year  month   day gender  births day_week\n",
       "10207  1982      6  11.0      F    5159   Sunday\n",
       "10208  1982      6  11.0      M    5470   Sunday"
      ]
     },
     "execution_count": 219,
     "metadata": {},
     "output_type": "execute_result"
    }
   ],
   "source": [
    "birth_df_bis = pd.concat([birth_df, jours_df], 1)\n",
    "#mask1 = birth_df_bis['day_week']=='Friday'\n",
    "mask2 = birth_df_bis['year']==1982\n",
    "mask3 = birth_df_bis['month']==6\n",
    "mask4 = birth_df_bis['day']==11\n",
    "birth_df_bis[mask2][mask3][mask4]"
   ]
  },
  {
   "cell_type": "code",
   "execution_count": null,
   "metadata": {},
   "outputs": [],
   "source": [
    "birth_df_bis.groupby"
   ]
  },
  {
   "cell_type": "code",
   "execution_count": null,
   "metadata": {},
   "outputs": [],
   "source": [
    "\n",
    "pan_vnon80 = fam_pan_df[fam_pan_df[\"ventre\"]]\n"
   ]
  }
 ],
 "metadata": {
  "kernelspec": {
   "display_name": "Python 3",
   "language": "python",
   "name": "python3"
  },
  "language_info": {
   "codemirror_mode": {
    "name": "ipython",
    "version": 3
   },
   "file_extension": ".py",
   "mimetype": "text/x-python",
   "name": "python",
   "nbconvert_exporter": "python",
   "pygments_lexer": "ipython3",
   "version": "3.7.0"
  }
 },
 "nbformat": 4,
 "nbformat_minor": 2
}
