{
 "cells": [
  {
   "cell_type": "code",
   "execution_count": 140,
   "metadata": {},
   "outputs": [],
   "source": [
    "import pandas as pd\n",
    "import numpy as np\n",
    "import matplotlib.pyplot as plt\n",
    "% matplotlib inline\n",
    "from datetime import date\n",
    "import calendar"
   ]
  },
  {
   "cell_type": "code",
   "execution_count": 163,
   "metadata": {},
   "outputs": [],
   "source": [
    "# importe les données dans un dataframe\n",
    "birth_df0 = pd.read_csv(\"birth.csv\", sep=\",\")"
   ]
  },
  {
   "cell_type": "markdown",
   "metadata": {},
   "source": [
    "# Nettoyage des données\n",
    "\n",
    "**1. Elimination des naissances dont les données liées à la date sont non renseignées**"
   ]
  },
  {
   "cell_type": "code",
   "execution_count": 164,
   "metadata": {},
   "outputs": [
    {
     "name": "stdout",
     "output_type": "stream",
     "text": [
      "Nombre total de lignes : 15547\n",
      "Nombre de non nul par colonne : year      15547\n",
      "month     15547\n",
      "day       15067\n",
      "gender    15547\n",
      "births    15547\n",
      "dtype: int64\n"
     ]
    }
   ],
   "source": [
    "print(\"Nombre total de lignes :\", birth_df0.index.size)\n",
    "print(\"Nombre de non nul par colonne :\",birth_df0.count()) \n",
    "\n",
    "# Remarque : \"count()\" compte seulemeent les valeurs renseignées de chaque colonne contrairement à\n",
    "# .size, qui compte tout"
   ]
  },
  {
   "cell_type": "markdown",
   "metadata": {},
   "source": [
    "En comptant les éléments par colonne on s'aperçoit que seuls certains jours ne sont pas renseignés.\n",
    "\n",
    "Il faut éliminer les lignes correspondantes :"
   ]
  },
  {
   "cell_type": "code",
   "execution_count": 183,
   "metadata": {},
   "outputs": [
    {
     "name": "stdout",
     "output_type": "stream",
     "text": [
      "Nbe de lignes, avant nettoyage : 15547\n",
      "Nbe de lignes, après nettoyage : 15067\n",
      "Nbe de lignes éliminées : 480\n"
     ]
    }
   ],
   "source": [
    "print(\"Nbe de lignes, avant nettoyage :\" , birth_df0.index.size)\n",
    "\n",
    "# élimination des lignes dont l'année, le mois ou le jour n'est pas renseigné\n",
    "birth_df1 = birth_df0.dropna(subset = ['year','month','day'], inplace=False)\n",
    "\n",
    "#index des lignes éliminées\n",
    "temp = np.array(list(set(birth_df0.index) - set(birth_df1.index)))\n",
    "\n",
    "# nbe de lignes après triage\n",
    "print(\"Nbe de lignes, après nettoyage :\", birth_df1.index.size)\n",
    "print(\"Nbe de lignes éliminées :\", temp.size)"
   ]
  },
  {
   "cell_type": "code",
   "execution_count": 191,
   "metadata": {},
   "outputs": [
    {
     "name": "stdout",
     "output_type": "stream",
     "text": [
      "Nbe de lignes, après nettoyage : 14717\n",
      "Nbe de lignes éliminées : 350\n"
     ]
    },
    {
     "data": {
      "text/html": [
       "<div>\n",
       "<style scoped>\n",
       "    .dataframe tbody tr th:only-of-type {\n",
       "        vertical-align: middle;\n",
       "    }\n",
       "\n",
       "    .dataframe tbody tr th {\n",
       "        vertical-align: top;\n",
       "    }\n",
       "\n",
       "    .dataframe thead th {\n",
       "        text-align: right;\n",
       "    }\n",
       "</style>\n",
       "<table border=\"1\" class=\"dataframe\">\n",
       "  <thead>\n",
       "    <tr style=\"text-align: right;\">\n",
       "      <th></th>\n",
       "      <th>year</th>\n",
       "      <th>month</th>\n",
       "      <th>day</th>\n",
       "      <th>gender</th>\n",
       "      <th>births</th>\n",
       "    </tr>\n",
       "  </thead>\n",
       "  <tbody>\n",
       "    <tr>\n",
       "      <th>8195</th>\n",
       "      <td>1979</td>\n",
       "      <td>9</td>\n",
       "      <td>99.0</td>\n",
       "      <td>F</td>\n",
       "      <td>14</td>\n",
       "    </tr>\n",
       "    <tr>\n",
       "      <th>8196</th>\n",
       "      <td>1979</td>\n",
       "      <td>9</td>\n",
       "      <td>99.0</td>\n",
       "      <td>M</td>\n",
       "      <td>11</td>\n",
       "    </tr>\n",
       "    <tr>\n",
       "      <th>10247</th>\n",
       "      <td>1982</td>\n",
       "      <td>6</td>\n",
       "      <td>99.0</td>\n",
       "      <td>M</td>\n",
       "      <td>2</td>\n",
       "    </tr>\n",
       "    <tr>\n",
       "      <th>6179</th>\n",
       "      <td>1977</td>\n",
       "      <td>1</td>\n",
       "      <td>99.0</td>\n",
       "      <td>F</td>\n",
       "      <td>4</td>\n",
       "    </tr>\n",
       "    <tr>\n",
       "      <th>4143</th>\n",
       "      <td>1974</td>\n",
       "      <td>5</td>\n",
       "      <td>99.0</td>\n",
       "      <td>F</td>\n",
       "      <td>12</td>\n",
       "    </tr>\n",
       "  </tbody>\n",
       "</table>\n",
       "</div>"
      ],
      "text/plain": [
       "       year  month   day gender  births\n",
       "8195   1979      9  99.0      F      14\n",
       "8196   1979      9  99.0      M      11\n",
       "10247  1982      6  99.0      M       2\n",
       "6179   1977      1  99.0      F       4\n",
       "4143   1974      5  99.0      F      12"
      ]
     },
     "execution_count": 191,
     "metadata": {},
     "output_type": "execute_result"
    }
   ],
   "source": [
    "# on garde seulement les lignes dont les jours sont compris entre 1 et 31\n",
    "cond_d = pd.Series([birth_df1.day.values[i] in range (1,32) for i in range(len(birth_df1.day))], \\\n",
    "                   index = birth_df1.day.index)\n",
    "\n",
    "birth_df2 = birth_df1.where(cond_d).dropna()\n",
    "\n",
    "          \n",
    "#index des lignes éliminées\n",
    "temp = np.array(list(set(birth_df1.index) - set(birth_df2.index)))\n",
    "\n",
    "# nbe de lignes après triage\n",
    "print(\"Nbe de lignes, après nettoyage :\", birth_df2.index.size)\n",
    "print(\"Nbe de lignes éliminées :\", temp.size)\n",
    "\n",
    "birth_df0.iloc[temp].head(5)"
   ]
  },
  {
   "cell_type": "markdown",
   "metadata": {},
   "source": [
    "Création d'une nouvelle colonne qui agrège les données jour, mois et année pour en faire des dates"
   ]
  },
  {
   "cell_type": "code",
   "execution_count": 193,
   "metadata": {},
   "outputs": [],
   "source": [
    "# Crée une dataframe temporaire contenant les données pour former les dates\n",
    "date_df = pd.DataFrame({'year':birth_df2.year.values.astype(int),\\\n",
    "                        'month':birth_df2.month.values.astype(int),\\\n",
    "                        'day':birth_df2.day.values.astype(int)})\n",
    "# type \"Series\", qui contiendra la nouvelle colonne à ajouter\n",
    "date_ser = pd.to_datetime(date_df,errors='coerce') \n",
    "\n",
    "birth_df3 = birth_df2.drop(columns = [\"month\", \"day\"], inplace=False) # retrait des colonnes jour et mois\n",
    "birth_df3[\"date\"] = date_ser  # ajout de la nouvelle colonne"
   ]
  },
  {
   "cell_type": "markdown",
   "metadata": {},
   "source": [
    "La méthode '.to_datetime' transforme automatiquement toute date non valide en NaT (not a timestamp), qu'on peut ensuite filter facilcement grace à la méthode '.dropna' :"
   ]
  },
  {
   "cell_type": "code",
   "execution_count": 196,
   "metadata": {},
   "outputs": [
    {
     "name": "stdout",
     "output_type": "stream",
     "text": [
      "Nbe de lignes, après nettoyage : 14717\n",
      "Nbe de lignes éliminées : 452\n"
     ]
    },
    {
     "data": {
      "text/html": [
       "<div>\n",
       "<style scoped>\n",
       "    .dataframe tbody tr th:only-of-type {\n",
       "        vertical-align: middle;\n",
       "    }\n",
       "\n",
       "    .dataframe tbody tr th {\n",
       "        vertical-align: top;\n",
       "    }\n",
       "\n",
       "    .dataframe thead th {\n",
       "        text-align: right;\n",
       "    }\n",
       "</style>\n",
       "<table border=\"1\" class=\"dataframe\">\n",
       "  <thead>\n",
       "    <tr style=\"text-align: right;\">\n",
       "      <th></th>\n",
       "      <th>year</th>\n",
       "      <th>month</th>\n",
       "      <th>day</th>\n",
       "      <th>gender</th>\n",
       "      <th>births</th>\n",
       "    </tr>\n",
       "  </thead>\n",
       "  <tbody>\n",
       "    <tr>\n",
       "      <th>15061</th>\n",
       "      <td>1988</td>\n",
       "      <td>12</td>\n",
       "      <td>29.0</td>\n",
       "      <td>F</td>\n",
       "      <td>5760</td>\n",
       "    </tr>\n",
       "    <tr>\n",
       "      <th>6171</th>\n",
       "      <td>1977</td>\n",
       "      <td>1</td>\n",
       "      <td>28.0</td>\n",
       "      <td>F</td>\n",
       "      <td>4566</td>\n",
       "    </tr>\n",
       "    <tr>\n",
       "      <th>2164</th>\n",
       "      <td>1971</td>\n",
       "      <td>10</td>\n",
       "      <td>29.0</td>\n",
       "      <td>F</td>\n",
       "      <td>4804</td>\n",
       "    </tr>\n",
       "    <tr>\n",
       "      <th>2165</th>\n",
       "      <td>1971</td>\n",
       "      <td>10</td>\n",
       "      <td>29.0</td>\n",
       "      <td>M</td>\n",
       "      <td>5118</td>\n",
       "    </tr>\n",
       "    <tr>\n",
       "      <th>118</th>\n",
       "      <td>1969</td>\n",
       "      <td>2</td>\n",
       "      <td>28.0</td>\n",
       "      <td>F</td>\n",
       "      <td>4792</td>\n",
       "    </tr>\n",
       "    <tr>\n",
       "      <th>119</th>\n",
       "      <td>1969</td>\n",
       "      <td>2</td>\n",
       "      <td>28.0</td>\n",
       "      <td>M</td>\n",
       "      <td>4964</td>\n",
       "    </tr>\n",
       "    <tr>\n",
       "      <th>120</th>\n",
       "      <td>1969</td>\n",
       "      <td>2</td>\n",
       "      <td>29.0</td>\n",
       "      <td>F</td>\n",
       "      <td>50</td>\n",
       "    </tr>\n",
       "    <tr>\n",
       "      <th>121</th>\n",
       "      <td>1969</td>\n",
       "      <td>2</td>\n",
       "      <td>29.0</td>\n",
       "      <td>M</td>\n",
       "      <td>16</td>\n",
       "    </tr>\n",
       "    <tr>\n",
       "      <th>122</th>\n",
       "      <td>1969</td>\n",
       "      <td>2</td>\n",
       "      <td>30.0</td>\n",
       "      <td>F</td>\n",
       "      <td>24</td>\n",
       "    </tr>\n",
       "    <tr>\n",
       "      <th>123</th>\n",
       "      <td>1969</td>\n",
       "      <td>2</td>\n",
       "      <td>30.0</td>\n",
       "      <td>M</td>\n",
       "      <td>28</td>\n",
       "    </tr>\n",
       "    <tr>\n",
       "      <th>6294</th>\n",
       "      <td>1977</td>\n",
       "      <td>3</td>\n",
       "      <td>27.0</td>\n",
       "      <td>M</td>\n",
       "      <td>4098</td>\n",
       "    </tr>\n",
       "    <tr>\n",
       "      <th>6295</th>\n",
       "      <td>1977</td>\n",
       "      <td>3</td>\n",
       "      <td>28.0</td>\n",
       "      <td>F</td>\n",
       "      <td>4487</td>\n",
       "    </tr>\n",
       "    <tr>\n",
       "      <th>4261</th>\n",
       "      <td>1974</td>\n",
       "      <td>7</td>\n",
       "      <td>27.0</td>\n",
       "      <td>F</td>\n",
       "      <td>4139</td>\n",
       "    </tr>\n",
       "    <tr>\n",
       "      <th>4262</th>\n",
       "      <td>1974</td>\n",
       "      <td>7</td>\n",
       "      <td>27.0</td>\n",
       "      <td>M</td>\n",
       "      <td>4353</td>\n",
       "    </tr>\n",
       "    <tr>\n",
       "      <th>246</th>\n",
       "      <td>1969</td>\n",
       "      <td>4</td>\n",
       "      <td>28.0</td>\n",
       "      <td>F</td>\n",
       "      <td>4622</td>\n",
       "    </tr>\n",
       "  </tbody>\n",
       "</table>\n",
       "</div>"
      ],
      "text/plain": [
       "       year  month   day gender  births\n",
       "15061  1988     12  29.0      F    5760\n",
       "6171   1977      1  28.0      F    4566\n",
       "2164   1971     10  29.0      F    4804\n",
       "2165   1971     10  29.0      M    5118\n",
       "118    1969      2  28.0      F    4792\n",
       "119    1969      2  28.0      M    4964\n",
       "120    1969      2  29.0      F      50\n",
       "121    1969      2  29.0      M      16\n",
       "122    1969      2  30.0      F      24\n",
       "123    1969      2  30.0      M      28\n",
       "6294   1977      3  27.0      M    4098\n",
       "6295   1977      3  28.0      F    4487\n",
       "4261   1974      7  27.0      F    4139\n",
       "4262   1974      7  27.0      M    4353\n",
       "246    1969      4  28.0      F    4622"
      ]
     },
     "execution_count": 196,
     "metadata": {},
     "output_type": "execute_result"
    }
   ],
   "source": [
    "# élimination des lignes dont l'année, le mois et le jour forment une date qui n'existe pas\n",
    "# (notamment les 29 janvier d'années non bissextiles)\n",
    "birth_df3 = birth_df3.dropna(subset = ['date'])\n",
    "\n",
    "#index des lignes éliminées\n",
    "temp = np.array(list(set(birth_df2.index) - set(birth_df3.index)))\n",
    "\n",
    "# nbe de lignes après triage\n",
    "print(\"Nbe de lignes, après nettoyage :\", birth_df2.index.size)\n",
    "print(\"Nbe de lignes éliminées :\", temp.size)\n",
    "\n",
    "birth_df0.iloc[temp].head(15)"
   ]
  },
  {
   "cell_type": "code",
   "execution_count": 197,
   "metadata": {},
   "outputs": [],
   "source": [
    "# ajout d'une nouvelle colonne indiquant le nom du jour de naissance\n",
    "\n",
    "tab = [calendar.day_name[birth_df3.iloc[i].date.weekday()] for i in range(birth_df3.index.size)]\n",
    "\n",
    "day_week_ser = pd.Series(tab)\n",
    "birth_df3[\"day_week\"] = day_week_ser"
   ]
  },
  {
   "cell_type": "code",
   "execution_count": 198,
   "metadata": {},
   "outputs": [
    {
     "name": "stdout",
     "output_type": "stream",
     "text": [
      "Nbe de lignes, après nettoyage : 14265\n"
     ]
    },
    {
     "data": {
      "text/html": [
       "<div>\n",
       "<style scoped>\n",
       "    .dataframe tbody tr th:only-of-type {\n",
       "        vertical-align: middle;\n",
       "    }\n",
       "\n",
       "    .dataframe tbody tr th {\n",
       "        vertical-align: top;\n",
       "    }\n",
       "\n",
       "    .dataframe thead th {\n",
       "        text-align: right;\n",
       "    }\n",
       "</style>\n",
       "<table border=\"1\" class=\"dataframe\">\n",
       "  <thead>\n",
       "    <tr style=\"text-align: right;\">\n",
       "      <th></th>\n",
       "      <th>year</th>\n",
       "      <th>gender</th>\n",
       "      <th>births</th>\n",
       "      <th>date</th>\n",
       "      <th>day_week</th>\n",
       "    </tr>\n",
       "  </thead>\n",
       "  <tbody>\n",
       "    <tr>\n",
       "      <th>0</th>\n",
       "      <td>1969.0</td>\n",
       "      <td>F</td>\n",
       "      <td>4046.0</td>\n",
       "      <td>1969-01-01</td>\n",
       "      <td>Wednesday</td>\n",
       "    </tr>\n",
       "    <tr>\n",
       "      <th>1</th>\n",
       "      <td>1969.0</td>\n",
       "      <td>M</td>\n",
       "      <td>4440.0</td>\n",
       "      <td>1969-01-01</td>\n",
       "      <td>Wednesday</td>\n",
       "    </tr>\n",
       "    <tr>\n",
       "      <th>2</th>\n",
       "      <td>1969.0</td>\n",
       "      <td>F</td>\n",
       "      <td>4454.0</td>\n",
       "      <td>1969-01-02</td>\n",
       "      <td>Thursday</td>\n",
       "    </tr>\n",
       "  </tbody>\n",
       "</table>\n",
       "</div>"
      ],
      "text/plain": [
       "     year gender  births       date   day_week\n",
       "0  1969.0      F  4046.0 1969-01-01  Wednesday\n",
       "1  1969.0      M  4440.0 1969-01-01  Wednesday\n",
       "2  1969.0      F  4454.0 1969-01-02   Thursday"
      ]
     },
     "execution_count": 198,
     "metadata": {},
     "output_type": "execute_result"
    }
   ],
   "source": [
    "# nbe de lignes après triage\n",
    "print(\"Nbe de lignes, après nettoyage :\", birth_df3.index.size)\n",
    "birth_df3.head(3)"
   ]
  },
  {
   "cell_type": "code",
   "execution_count": 200,
   "metadata": {},
   "outputs": [],
   "source": [
    "masque = pd.cut(birth_df3['year'], np.array([1960,1970,1980,1990]))\n",
    "birth_pt = birth_df3.pivot_table('births', index = [masque], columns = 'day_week', aggfunc = \"sum\")"
   ]
  },
  {
   "cell_type": "code",
   "execution_count": 309,
   "metadata": {},
   "outputs": [
    {
     "data": {
      "text/plain": [
       "array([3547832., 3663070., 3513934., 3224685., 3109444., 3122790.,\n",
       "       3112941., 3140682., 3275341., 3305020., 3499737., 3617948.,\n",
       "       3635480., 3685374., 3642731., 3673531., 3765054., 3760682.,\n",
       "       3813211., 2000042.])"
      ]
     },
     "execution_count": 309,
     "metadata": {},
     "output_type": "execute_result"
    }
   ],
   "source": [
    "birth_pt1 = birth_df3.pivot_table('births', index = 'year', aggfunc = \"sum\")\n",
    "x1 = np.array(birth_pt1.index)\n",
    "y1 = np.array(birth_pt1.births.values)"
   ]
  },
  {
   "cell_type": "markdown",
   "metadata": {},
   "source": [
    "# Affichage des données\n",
    "\n",
    "__1. Pré-visualisation globale__"
   ]
  },
  {
   "cell_type": "code",
   "execution_count": 327,
   "metadata": {},
   "outputs": [
    {
     "data": {
      "image/png": "[encoded data removed]",
      "text/plain": [
       "<Figure size 1080x216 with 2 Axes>"
      ]
     },
     "metadata": {
      "needs_background": "light"
     },
     "output_type": "display_data"
    }
   ],
   "source": [
    "fig = plt.figure(figsize=(15,3))\n",
    "plt.rcParams.update({'font.size': 15})\n",
    "plt.grid(color='grey', linestyle='dotted')\n",
    "\n",
    "# Pré-visualisation des données en fonction des années\n",
    "\n",
    "birth_pt1 = birth_df3.pivot_table('births', index = 'year', aggfunc = \"sum\")\n",
    "x1 = np.array(birth_pt1.index)\n",
    "y1 = np.array(birth_pt1.births.values)\n",
    "y1_min = np.min(y1)*0.99/1e6\n",
    "y1_max = np.max(y1)*1.01/1e6\n",
    "plot1 = plt.subplot(1, 3, 1)\n",
    "plot1.bar(x1, y1/1e6, color = 'red', edgecolor='k')\n",
    "plt.title(\"Total des naissances\\n(1969-1988)\",fontweight=\"bold\")\n",
    "ax1 = plt.xlabel(\"Année\")\n",
    "plt.ylabel(\"Naissances (millions)\")\n",
    "#plt.axis(1969 ,1680 , y1_min, y1_max])\n",
    "\n",
    "# Valeur absolue globale du nombre de naissances pour chaque jour de la semaine\n",
    "\n",
    "x2 = range(len(y2))\n",
    "y2 = birth_pt.iloc[0].values + birth_pt.iloc[1].values + birth_pt.iloc[2].values\n",
    "ind = birth_pt.iloc[0].index\n",
    "y2_min = np.min(y2)*0.99/1e6\n",
    "y2_max = np.max(y2)*1.01/1e6\n",
    "plot2 = plt.subplot(1, 3, 2)\n",
    "plot2.bar(x2, y2/1e6, color = 'blue', edgecolor='k', label='naissances' )\n",
    "plt.title(\"Naissances\\n selon le jour\",fontweight=\"bold\")\n",
    "ax2 = plt.xlabel(\"Jour de la semaine\")\n",
    "plt.ylabel(\"Naissances (millions)\")\n",
    "plt.axis([-0.5, 6.5, y2_min, y2_max])\n",
    "plt.xticks(range(7), ind, rotation=30)\n",
    "\n",
    "plt.gcf().subplots_adjust(left = 0.1, bottom = 0.2, right = 0.7, top = 1.2, wspace = 0.5, hspace = 0.2)\n",
    "\n",
    "plt.show()\n",
    "\n",
    "# gestion des marges\n"
   ]
  },
  {
   "cell_type": "markdown",
   "metadata": {},
   "source": [
    "__2. Courbes du nombre de naissances pour les décennies 60, 70 et 80.__\n",
    "\n",
    "Remarque : les trois catégories choisies ne sont pas vraiment homogène puisque les données valides ne portent que sur les années "
   ]
  },
  {
   "cell_type": "code",
   "execution_count": 137,
   "metadata": {},
   "outputs": [
    {
     "data": {
      "image/png": "[encoded data removed]",
      "text/plain": [
       "<Figure size 504x360 with 1 Axes>"
      ]
     },
     "metadata": {
      "needs_background": "light"
     },
     "output_type": "display_data"
    }
   ],
   "source": [
    "## Nombre de naissance pour chaque jour de la semaine pour les décénnies 60, 70 et 80\n",
    "\n",
    "y_60 = birth_pt.iloc[0].values\n",
    "y_70 = birth_pt.iloc[1].values\n",
    "y_80 = birth_pt.iloc[2].values\n",
    "\n",
    "fig = plt.figure(figsize=(7,5))\n",
    "\n",
    "plt.plot(range(len(y_60)),(y_60)/1000000, \\\n",
    "         'o', c='blue', lw=10, ls='solid', \\\n",
    "         ms = 10, mfc = 'y', mec='red',  mew = 2, \\\n",
    "         label='1969',zorder = 5)\n",
    "plt.plot(range(len(y_70)),(y_70)/1000000, \\\n",
    "         'o', c='red', lw=10, ls='solid', \\\n",
    "         ms = 10, mfc = 'y', mec='red',  mew = 2, \\\n",
    "         label='1960 à 1969',zorder = 10)\n",
    "plt.plot(range(len(y_80)),(y_80)/1000000, \\\n",
    "         'o', c='green', lw=10, ls='solid', \\\n",
    "         ms = 10, mfc = 'y', mec='red',  mew = 2, \\\n",
    "         label='1980 à 1988',zorder = 15)\n",
    "\n",
    "plt.title(\"Nombre de naissances\\n(de 1969 à 1988)\",fontweight=\"bold\")\n",
    "plt.xlabel(\"Jour de la semaine\")\n",
    "plt.ylabel(\"Naissances (millions)\")\n",
    "plt.rcParams.update({'font.size': 15})\n",
    "plt.grid(color='grey', linestyle='dotted')\n",
    "plt.xticks(range(7), ind, rotation=30)\n",
    "plt.legend(loc='best')\n",
    "\n",
    "plt.show()"
   ]
  },
  {
   "cell_type": "code",
   "execution_count": 138,
   "metadata": {},
   "outputs": [
    {
     "data": {
      "image/png": "[encoded data removed]",
      "text/plain": [
       "<Figure size 504x360 with 1 Axes>"
      ]
     },
     "metadata": {
      "needs_background": "light"
     },
     "output_type": "display_data"
    }
   ],
   "source": [
    "## Pourcentage des naissances pour chaque jour\n",
    "# étiquettes de la valeur pour chaque barre\n",
    "\n",
    "\n",
    "fig = plt.figure(figsize=(7,5))\n",
    "\n",
    "plt.plot(range(len(y_60)),(y_60/np.sum(y_60)), \\\n",
    "         'o', c='blue', lw=10, ls='solid', \\\n",
    "         ms = 10, mfc = 'y', mec='red',  mew = 2, \\\n",
    "         label='1969',zorder = 5)\n",
    "plt.plot(range(len(y_70)),(y_70/np.sum(y_70)), \\\n",
    "         'o', c='red', lw=10, ls='solid', \\\n",
    "         ms = 10, mfc = 'y', mec='red',  mew = 2, \\\n",
    "         label='1960 à 1969',zorder = 10)\n",
    "plt.plot(range(len(y_80)),(y_80/np.sum(y_80)), \\\n",
    "         'o', c='green', lw=10, ls='solid', \\\n",
    "         ms = 10, mfc = 'y', mec='red',  mew = 2, \\\n",
    "         label='1980 à 1988',zorder = 15)\n",
    "\n",
    "plt.title(\"Nombre de naissances\\n(de 1969 à 1988)\",fontweight=\"bold\")\n",
    "plt.xlabel(\"Jour de la semaine\")\n",
    "plt.ylabel(\"Naissances (%)\")\n",
    "plt.rcParams.update({'font.size': 15})\n",
    "plt.axis([-0.5, 6.5, 0.1, 0.2])\n",
    "plt.grid(color='grey', linestyle='dotted')\n",
    "plt.xticks(range(7), ind, rotation=30)\n",
    "plt.legend(loc='best')\n",
    "\n",
    "plt.show()"
   ]
  },
  {
   "cell_type": "code",
   "execution_count": 139,
   "metadata": {},
   "outputs": [
    {
     "ename": "SyntaxError",
     "evalue": "invalid syntax (<ipython-input-139-88367ac4018f>, line 1)",
     "output_type": "error",
     "traceback": [
      "\u001b[1;36m  File \u001b[1;32m\"<ipython-input-139-88367ac4018f>\"\u001b[1;36m, line \u001b[1;32m1\u001b[0m\n\u001b[1;33m    mettre dans l'ordre les index et en français\u001b[0m\n\u001b[1;37m              ^\u001b[0m\n\u001b[1;31mSyntaxError\u001b[0m\u001b[1;31m:\u001b[0m invalid syntax\n"
     ]
    }
   ],
   "source": [
    "mettre dans l'ordre les index et en français\n",
    "mise en forme graphe"
   ]
  },
  {
   "cell_type": "code",
   "execution_count": 118,
   "metadata": {},
   "outputs": [
    {
     "name": "stdout",
     "output_type": "stream",
     "text": [
      "[ 1  2  3  4  5  6  7  8  9 10 11 12 13 14 15 16 17 18 19 20 21 22 23 24\n",
      " 25 26 27 28 29 30 31]\n",
      "[    0     1     2 ... 14607 14608 14609]\n"
     ]
    }
   ],
   "source": [
    "print(np.array(range(1,32)))\n",
    "print(np.array(range(birth_df.index.size)))"
   ]
  },
  {
   "cell_type": "code",
   "execution_count": null,
   "metadata": {},
   "outputs": [],
   "source": []
  }
 ],
 "metadata": {
  "kernelspec": {
   "display_name": "Python 3",
   "language": "python",
   "name": "python3"
  },
  "language_info": {
   "codemirror_mode": {
    "name": "ipython",
    "version": 3
   },
   "file_extension": ".py",
   "mimetype": "text/x-python",
   "name": "python",
   "nbconvert_exporter": "python",
   "pygments_lexer": "ipython3",
   "version": "3.7.0"
  }
 },
 "nbformat": 4,
 "nbformat_minor": 2
}
