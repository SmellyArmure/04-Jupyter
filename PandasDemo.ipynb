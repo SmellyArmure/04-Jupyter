{
 "cells": [
  {
   "cell_type": "code",
   "execution_count": 4,
   "metadata": {},
   "outputs": [],
   "source": [
    "import numpy as np\n",
    "import pandas as pd"
   ]
  },
  {
   "cell_type": "code",
   "execution_count": 5,
   "metadata": {},
   "outputs": [],
   "source": [
    "fam_pandas = [[100,5,20,80], [50,2.5,10,40],[110,6,22,80]]\n",
    "noms_pandas = ['maman', 'bébé', 'papa']\n",
    "mesu_pandas = ['pattes', 'poils', 'queue', 'ventre']"
   ]
  },
  {
   "cell_type": "code",
   "execution_count": 8,
   "metadata": {},
   "outputs": [],
   "source": [
    "# Définir ou créer une dataframe\n",
    "\n",
    "fam_pan_np = np.array(fam_pandas)\n",
    "fam_pan_df = pd.DataFrame(fam_pan_np, index = noms_pandas, columns = mesu_pandas)"
   ]
  },
  {
   "cell_type": "code",
   "execution_count": 44,
   "metadata": {},
   "outputs": [
    {
     "name": "stdout",
     "output_type": "stream",
     "text": [
      "maman    80.0\n",
      "bébé     40.0\n",
      "papa     80.0\n",
      "Name: ventre, dtype: float64\n",
      "maman    100.0\n",
      "bébé      50.0\n",
      "papa     110.0\n",
      "Name: pattes, dtype: float64\n",
      "[20. 10. 22.]\n",
      "[5.  2.5 6. ]\n"
     ]
    }
   ],
   "source": [
    "# Renvoyer des colonnes\n",
    "\n",
    "print(fam_pan_df[\"ventre\"]) # objet de type 'pandas.Series'\n",
    "print(fam_pan_df.pattes)\n",
    "print(fam_pan_df[\"queue\"].values) # vecteur correspondant aux valeurs seul\n",
    "print(fam_pan_df.poils.values) # vecteur correspondant aux valeurs seul"
   ]
  },
  {
   "cell_type": "code",
   "execution_count": 23,
   "metadata": {},
   "outputs": [
    {
     "name": "stdout",
     "output_type": "stream",
     "text": [
      "Voici le panda maman :\n",
      "pattes    100.0\n",
      "poils       5.0\n",
      "queue      20.0\n",
      "ventre     80.0\n",
      "Name: maman, dtype: float64\n",
      "--------------------\n",
      "Voici le panda bébé :\n",
      "pattes    50.0\n",
      "poils      2.5\n",
      "queue     10.0\n",
      "ventre    40.0\n",
      "Name: bébé, dtype: float64\n",
      "--------------------\n",
      "Voici le panda papa :\n",
      "pattes    110.0\n",
      "poils       6.0\n",
      "queue      22.0\n",
      "ventre     80.0\n",
      "Name: papa, dtype: float64\n",
      "--------------------\n"
     ]
    }
   ],
   "source": [
    "# méthode .iterrows()\n",
    "\n",
    "for i, ligne in fam_pan_df.iterrows(): # .iterrows renvoie une liste de tuples (nom ligne, données)\n",
    "    print(\"Voici le panda %s :\\n\" %i + str(ligne) + \"\\n--------------------\")"
   ]
  },
  {
   "cell_type": "code",
   "execution_count": 25,
   "metadata": {},
   "outputs": [
    {
     "name": "stdout",
     "output_type": "stream",
     "text": [
      "pattes    110.0\n",
      "poils       6.0\n",
      "queue      22.0\n",
      "ventre     80.0\n",
      "Name: papa, dtype: float64\n",
      "pattes    110.0\n",
      "poils       6.0\n",
      "queue      22.0\n",
      "ventre     80.0\n",
      "Name: papa, dtype: float64\n"
     ]
    }
   ],
   "source": [
    "# Extraire des données\n",
    "\n",
    "print(fam_pan_df.iloc[2]) # Avec iloc(), indexation positionnelle\n",
    "print(fam_pan_df.loc[\"papa\"]) # Avec loc(), indexation par label"
   ]
  },
  {
   "cell_type": "code",
   "execution_count": 38,
   "metadata": {},
   "outputs": [
    {
     "name": "stdout",
     "output_type": "stream",
     "text": [
      "maman     True\n",
      "bébé     False\n",
      "papa      True\n",
      "Name: ventre, dtype: bool\n",
      "\n",
      " Les pandas à ventre de 80 cm sont :\n",
      "Index(['maman', 'papa'], dtype='object')\n",
      "\n",
      " Les pandas à ventre autre que 80 cm sont :\n",
      "Index(['bébé'], dtype='object')\n"
     ]
    }
   ],
   "source": [
    "# Sélectionner des données avec conditions\n",
    "\n",
    "masque = fam_pan_df[\"ventre\"] == 80 # renvoie un tableau de booléens pour chaque panda (ventre de 80 cm ?)\n",
    "print(masque)\n",
    "pan_v80 = fam_pan_df[masque] # utilisation d'un masque booléen pour filtrer des données\n",
    "pan_vnon80 = fam_pan_df[~masque]\n",
    "print(\"\\n Les pandas à ventre de 80 cm sont :\") # ou \"famille_panda_df[famille_panda_df[\"ventre\"] == 80]\"\n",
    "print(pan_v80.index)\n",
    "print(\"\\n Les pandas à ventre autre que 80 cm sont :\")\n",
    "print(pan_vnon80.index)"
   ]
  },
  {
   "cell_type": "code",
   "execution_count": 45,
   "metadata": {},
   "outputs": [
    {
     "name": "stdout",
     "output_type": "stream",
     "text": [
      "       pattes  poils  queue  ventre\n",
      "maman   100.0    5.0   20.0    80.0\n",
      "bébé     50.0    2.5   10.0    40.0\n",
      "papa    110.0    6.0   22.0    80.0\n",
      "0       105.0    4.0   19.0    80.0\n",
      "1       100.0    5.0   20.0    80.0\n"
     ]
    }
   ],
   "source": [
    "# Ajouter des données\n",
    "\n",
    "autres_pan = pd.DataFrame([[105,4,19,80],[100,5,20,80]],      # deux nouveaux pandas\n",
    "                               columns = fam_pan_df.columns)  # même colonnes que famille_panda_df\n",
    "all_pan = fam_pan_df.append(autres_pan)\n",
    "print(all_pan)"
   ]
  },
  {
   "cell_type": "code",
   "execution_count": 46,
   "metadata": {},
   "outputs": [
    {
     "name": "stdout",
     "output_type": "stream",
     "text": [
      "       pattes  poils  queue  ventre\n",
      "maman   100.0    5.0   20.0    80.0\n",
      "bébé     50.0    2.5   10.0    40.0\n",
      "papa    110.0    6.0   22.0    80.0\n",
      "0       105.0    4.0   19.0    80.0\n"
     ]
    }
   ],
   "source": [
    "# Récupérer la liste sans doublons de lignes\n",
    "\n",
    "pan_uni = all_pan.drop_duplicates() # garde le premier de chaque doublon\n",
    "print(pan_uni)"
   ]
  },
  {
   "cell_type": "code",
   "execution_count": 48,
   "metadata": {},
   "outputs": [
    {
     "name": "stdout",
     "output_type": "stream",
     "text": [
      "Index(['pattes', 'poils', 'queue', 'ventre', 'sexe'], dtype='object')\n",
      "       pattes  poils  queue  ventre sexe\n",
      "maman   100.0    5.0   20.0    80.0    f\n",
      "bébé     50.0    2.5   10.0    40.0    f\n",
      "papa    110.0    6.0   22.0    80.0    m\n",
      "3\n",
      "[80. 40.]\n"
     ]
    }
   ],
   "source": [
    "# Divers\n",
    "\n",
    "print(fam_pan_df.columns) # accéder aux noms des colonnes\n",
    "fam_pan_df[\"sexe\"] = [\"f\", \"f\", \"m\"] # ajouter un attribut (une colonne)\n",
    "# la maman et le bébé sont des femelles, le papa est un mâle\n",
    "print(fam_pan_df)\n",
    "print(len(fam_pan_df)) # obtenir le nombre de lignes\n",
    "print(all_pan.ventre.unique()) # obtenir les valeurs distinctes d'une colonne :"
   ]
  },
  {
   "cell_type": "code",
   "execution_count": 51,
   "metadata": {},
   "outputs": [
    {
     "name": "stdout",
     "output_type": "stream",
     "text": [
      "C:\\Users\\Maryse\\Desktop\\EN COURS\\OPENCLASSROOMS\\05-Librairies Python Data Science\\GIT-Jupyter\n"
     ]
    }
   ],
   "source": [
    "# importer un fichier csv (comma separated values) dans une dataframe\n",
    "import os\n",
    "print(os.getcwd()) # pour connaître le chemin du répertoire courant\n",
    "data = pd.read_csv(\"hubble_data.csv\", sep=\",\") # si non dans le rep courant :\"/home/user1/Bureau/data.csv\""
   ]
  },
  {
   "cell_type": "code",
   "execution_count": 52,
   "metadata": {},
   "outputs": [
    {
     "name": "stdout",
     "output_type": "stream",
     "text": [
      "    distance  recession_velocity\n",
      "0      0.032                 170\n",
      "1      0.034                 290\n",
      "2      0.214                -130\n",
      "3      0.263                 -70\n",
      "4      0.275                -185\n",
      "5      0.275                -220\n",
      "6      0.450                 200\n",
      "7      0.500                 290\n",
      "8      0.500                 270\n",
      "9      0.630                 200\n",
      "10     0.800                 300\n",
      "11     0.900                 -30\n",
      "12     0.900                 650\n",
      "13     0.900                 150\n",
      "14     0.900                 500\n",
      "15     1.000                 920\n",
      "16     1.100                 450\n",
      "17     1.100                 500\n",
      "18     1.400                 500\n",
      "19     1.700                 960\n",
      "20     2.000                 500\n",
      "21     2.000                 850\n",
      "22     2.000                 800\n",
      "23     2.000                1090\n"
     ]
    }
   ],
   "source": [
    "print(data) # des indexs ont été rajoutés, les titres de colonnes ont été détectés"
   ]
  },
  {
   "cell_type": "code",
   "execution_count": 65,
   "metadata": {},
   "outputs": [
    {
     "name": "stdout",
     "output_type": "stream",
     "text": [
      "distance---recession_velocity\n",
      "RangeIndex(start=0, stop=24, step=1)\n",
      "[[0.032 0.034 0.214 0.263 0.275 0.275 0.45  0.5   0.5   0.63  0.8   0.9\n",
      "  0.9   0.9   0.9   1.    1.1   1.1   1.4   1.7   2.    2.    2.    2.   ]]\n"
     ]
    }
   ],
   "source": [
    "print(str(data.columns[0]) + \"---\" + str(data.columns[1]))\n",
    "print(data.index)\n",
    "print(np.array([data[\"distance\"]],np.newaxis)) # change la colonne en ligne"
   ]
  },
  {
   "cell_type": "code",
   "execution_count": null,
   "metadata": {},
   "outputs": [],
   "source": []
  }
 ],
 "metadata": {
  "kernelspec": {
   "display_name": "Python 3",
   "language": "python",
   "name": "python3"
  },
  "language_info": {
   "codemirror_mode": {
    "name": "ipython",
    "version": 3
   },
   "file_extension": ".py",
   "mimetype": "text/x-python",
   "name": "python",
   "nbconvert_exporter": "python",
   "pygments_lexer": "ipython3",
   "version": "3.7.0"
  }
 },
 "nbformat": 4,
 "nbformat_minor": 2
}
