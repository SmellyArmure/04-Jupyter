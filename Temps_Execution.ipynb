{
 "cells": [
  {
   "cell_type": "code",
   "execution_count": 27,
   "metadata": {},
   "outputs": [],
   "source": [
    "import numpy as np"
   ]
  },
  {
   "cell_type": "code",
   "execution_count": 82,
   "metadata": {},
   "outputs": [
    {
     "name": "stdout",
     "output_type": "stream",
     "text": [
      "2.62 s ± 103 ms per loop (mean ± std. dev. of 7 runs, 1 loop each)\n"
     ]
    }
   ],
   "source": [
    "def calcul_inverse(values):\n",
    "    output = np.empty(len(values)) # initiatlisation d'un tableau\n",
    "    for i in range(len(values)):  # boucle qui calcule l'inverse de chaque valeur et l amet dans le tableau\n",
    "        output[i] = 1.0 / values[i]\n",
    "    return output # retourne le tableau\n",
    "        \n",
    "tab_large = np.random.randint(1, 100, size=1000000)\n",
    "\n",
    "%timeit calcul_inverse(tab_large) # calcule l'inverse d'un tableau de nbe aléatoires de 10^6 valeurs"
   ]
  },
  {
   "cell_type": "code",
   "execution_count": 83,
   "metadata": {},
   "outputs": [
    {
     "name": "stdout",
     "output_type": "stream",
     "text": [
      "11.1 ms ± 396 µs per loop (mean ± std. dev. of 7 runs, 100 loops each)\n"
     ]
    }
   ],
   "source": [
    "tab_large_np = np.array(tab_large)\n",
    "\n",
    "%timeit 1.0/tab_large_np"
   ]
  },
  {
   "cell_type": "code",
   "execution_count": 84,
   "metadata": {},
   "outputs": [],
   "source": [
    "def calcul_inverse_bis(values):\n",
    "    output = np.empty(values.shape) # initiatlisation d'un tableau\n",
    "    for i in range(values.shape[1]):  # boucle qui calcule l'inverse de chaque valeur\n",
    "        for j in range(values.shape[0]):\n",
    "            output[j,i] = 1.0 / values[j,i]\n",
    "    return output # retourne le tableau"
   ]
  },
  {
   "cell_type": "code",
   "execution_count": 85,
   "metadata": {},
   "outputs": [
    {
     "name": "stdout",
     "output_type": "stream",
     "text": [
      "2.86 s ± 265 ms per loop (mean ± std. dev. of 7 runs, 1 loop each)\n"
     ]
    }
   ],
   "source": [
    "tab_large_np2 = np.reshape((tab_large_np),(1000,1000))\n",
    "%timeit calcul_inverse_bis(tab_large_np2)"
   ]
  },
  {
   "cell_type": "code",
   "execution_count": 89,
   "metadata": {},
   "outputs": [
    {
     "name": "stdout",
     "output_type": "stream",
     "text": [
      "116 ms ± 8.59 ms per loop (mean ± std. dev. of 7 runs, 10 loops each)\n",
      "596 µs ± 8.23 µs per loop (mean ± std. dev. of 7 runs, 1000 loops each)\n"
     ]
    }
   ],
   "source": [
    "#facteur 2000 environ pour les temps d'exécution !!!\n",
    "%timeit sum(tab_large)\n",
    "%timeit np.sum(tab_large_np)"
   ]
  },
  {
   "cell_type": "code",
   "execution_count": 88,
   "metadata": {},
   "outputs": [
    {
     "name": "stdout",
     "output_type": "stream",
     "text": [
      "592 µs ± 4.93 µs per loop (mean ± std. dev. of 7 runs, 1000 loops each)\n"
     ]
    }
   ],
   "source": []
  },
  {
   "cell_type": "code",
   "execution_count": null,
   "metadata": {},
   "outputs": [],
   "source": []
  }
 ],
 "metadata": {
  "kernelspec": {
   "display_name": "Python 3",
   "language": "python",
   "name": "python3"
  },
  "language_info": {
   "codemirror_mode": {
    "name": "ipython",
    "version": 3
   },
   "file_extension": ".py",
   "mimetype": "text/x-python",
   "name": "python",
   "nbconvert_exporter": "python",
   "pygments_lexer": "ipython3",
   "version": "3.7.0"
  }
 },
 "nbformat": 4,
 "nbformat_minor": 2
}
