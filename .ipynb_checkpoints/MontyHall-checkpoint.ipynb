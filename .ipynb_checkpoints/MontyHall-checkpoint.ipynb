{
 "cells": [
  {
   "cell_type": "code",
   "execution_count": 279,
   "metadata": {},
   "outputs": [
    {
     "name": "stdout",
     "output_type": "stream",
     "text": [
      "1 2 3\n"
     ]
    }
   ],
   "source": [
    "import random\n",
    "from random import seed, randint\n",
    "from enum import Enum\n",
    "tabgob = range(1,4)\n",
    "print(tabgob[0],tabgob[1],tabgob[2])\n",
    "# donne la liste des numéros des trois gobelets possibles\n",
    "class Strategie(Enum):\n",
    "    idem = 1 # ne pas changer de choix\n",
    "    alter = 2 # changer de choix\n",
    "    alea = 3 # adopter aléatoirement une des deux stratégies ci-dessus\n",
    "# définit un classe stratégie"
   ]
  },
  {
   "cell_type": "code",
   "execution_count": 284,
   "metadata": {},
   "outputs": [],
   "source": [
    "# tire le numéro du gobelet gagnant entre 1 et 3\n",
    "def tirage():\n",
    "    return random.randint(1,3)"
   ]
  },
  {
   "cell_type": "code",
   "execution_count": 285,
   "metadata": {},
   "outputs": [],
   "source": [
    "#### fonction qui retourne le gobelet restant en cas de chgmt de choix\n",
    "def gobrestant(tabgob, tiralea, chxj):\n",
    "    tabgob.pop(tabgob.index(chxj)) # retire de la liste celui qu'il avait choisi\n",
    "    if tiralea == chxj:\n",
    "        return random.randint(0,1) # renvoie un des deux perdants au hasard\n",
    "    else:\n",
    "        return tiralea # renvoie le gagnant"
   ]
  },
  {
   "cell_type": "code",
   "execution_count": 286,
   "metadata": {},
   "outputs": [],
   "source": [
    "#### fonction qui retourne le résultat selon la stratégie\n",
    "def resultat(strat, tir, chx):\n",
    "    if strat == Strategie.alea: # si le joueur choisit aléatoirement sa stratégie\n",
    "        if random.randint(0,1) == 1:\n",
    "            strat = Strategie.alter\n",
    "        else:\n",
    "            strat = Strategie.idem\n",
    "    if strat == Strategie.idem: # si le joueur garde son choix de départ\n",
    "        return chx\n",
    "    elif strat == Strategie.alter: # si le joueur change de choix\n",
    "        return gobrestant([1,2,3],tir,chx) == tir\n",
    "    else:\n",
    "        print(\"Erreur de stratégie !\")"
   ]
  },
  {
   "cell_type": "code",
   "execution_count": 287,
   "metadata": {},
   "outputs": [
    {
     "name": "stdout",
     "output_type": "stream",
     "text": [
      "2 2 1\n",
      "2\n",
      "False\n"
     ]
    }
   ],
   "source": [
    "tir = tirage()\n",
    "chx = tirage()\n",
    "print(tir,chx,gobrestant([1,2,3],tir,chx))\n",
    "print(resultat(Strategie.idem,tir,chx))\n",
    "print(resultat(Strategie.alter,tir,chx))"
   ]
  },
  {
   "cell_type": "code",
   "execution_count": 288,
   "metadata": {},
   "outputs": [],
   "source": [
    "#### fonction qui permet de calculer un tableau de résultats pour le joueur 1 ou 2\n",
    "#def cohorte(nbe,strat):\n",
    "#    tab = []\n",
    "#    for i in range(0,nbe):\n",
    "#        tiralea = tirage()\n",
    "#        if resultat(strat, tiralea):\n",
    "#            tab.append(1)\n",
    "#        else:\n",
    "#            tab.append(0)\n",
    "#    return tab\n",
    "\n",
    "#### Le même code que ci-dessus en bcp plus simple grâce à une compréhension de liste\n",
    "def cohorte(nbe,strat):\n",
    "    tab_tir = [tirage() for i in range(0,nbe)]\n",
    "    tab_chx = [tirage() for i in range(0,nbe)]\n",
    "    return [1 if resultat(strat, tab_tir[i], tab_chx[i]) else 0 for i in range(0,nbe)]"
   ]
  },
  {
   "cell_type": "code",
   "execution_count": 289,
   "metadata": {},
   "outputs": [],
   "source": [
    "def compte(tabl):\n",
    "    cpt = 0\n",
    "    for i in tabl:\n",
    "        cpt = cpt + i\n",
    "    return cpt\n",
    "   \n",
    "#### ou sinon plus simple :\n",
    "#sum(tabl)"
   ]
  },
  {
   "cell_type": "code",
   "execution_count": 290,
   "metadata": {},
   "outputs": [
    {
     "name": "stdout",
     "output_type": "stream",
     "text": [
      "[1, 1, 1, 1, 1, 1, 1, 1, 1, 1, 1, 1, 1, 1, 1, 1, 1, 1, 1, 1, 1, 1, 1, 1, 1, 1, 1, 1, 1, 1, 1, 1, 1, 1, 1, 1, 1, 1, 1, 1, 1, 1, 1, 1, 1, 1, 1, 1, 1, 1, 1, 1, 1, 1, 1, 1, 1, 1, 1, 1, 1, 1, 1, 1, 1, 1, 1, 1, 1, 1, 1, 1, 1, 1, 1, 1, 1, 1, 1, 1, 1, 1, 1, 1, 1, 1, 1, 1, 1, 1, 1, 1, 1, 1, 1, 1, 1, 1, 1, 1] 100\n",
      "[1, 1, 1, 1, 1, 1, 1, 1, 0, 0, 1, 1, 1, 1, 0, 1, 0, 0, 0, 1, 1, 1, 1, 0, 1, 1, 1, 1, 0, 1, 0, 1, 1, 1, 1, 1, 0, 1, 1, 1, 1, 1, 1, 1, 0, 1, 0, 1, 1, 0, 0, 1, 1, 1, 1, 0, 1, 1, 1, 1, 1, 1, 1, 1, 0, 1, 1, 0, 0, 1, 1, 1, 1, 1, 0, 1, 1, 1, 1, 1, 1, 1, 1, 1, 1, 1, 1, 1, 0, 1, 1, 0, 0, 0, 1, 0, 0, 1, 1, 1] 75\n"
     ]
    }
   ],
   "source": [
    "ma_coh_idem = cohorte(100,Strategie.idem)\n",
    "ma_coh_alter = cohorte(100,Strategie.alter)\n",
    "print(ma_coh_idem,sum(ma_coh_idem))\n",
    "print(ma_coh_alter,sum(ma_coh_alter))"
   ]
  },
  {
   "cell_type": "code",
   "execution_count": null,
   "metadata": {},
   "outputs": [],
   "source": []
  },
  {
   "cell_type": "code",
   "execution_count": null,
   "metadata": {},
   "outputs": [],
   "source": []
  },
  {
   "cell_type": "code",
   "execution_count": null,
   "metadata": {},
   "outputs": [],
   "source": []
  },
  {
   "cell_type": "code",
   "execution_count": null,
   "metadata": {},
   "outputs": [],
   "source": []
  }
 ],
 "metadata": {
  "kernelspec": {
   "display_name": "Python 3",
   "language": "python",
   "name": "python3"
  },
  "language_info": {
   "codemirror_mode": {
    "name": "ipython",
    "version": 3
   },
   "file_extension": ".py",
   "mimetype": "text/x-python",
   "name": "python",
   "nbconvert_exporter": "python",
   "pygments_lexer": "ipython3",
   "version": "3.7.0"
  }
 },
 "nbformat": 4,
 "nbformat_minor": 2
}
