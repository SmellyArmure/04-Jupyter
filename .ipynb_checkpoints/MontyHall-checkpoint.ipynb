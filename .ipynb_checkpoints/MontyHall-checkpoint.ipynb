{
 "cells": [
  {
   "cell_type": "code",
   "execution_count": 5,
   "metadata": {},
   "outputs": [
    {
     "name": "stdout",
     "output_type": "stream",
     "text": [
      "1 2 3\n"
     ]
    }
   ],
   "source": [
    "import random\n",
    "from enum import Enum\n",
    "tabgob = range(1,4)\n",
    "print(tabgob[0],tabgob[1],tabgob[2])\n",
    "# donne la liste des numéros des trois gobelets possibles"
   ]
  },
  {
   "cell_type": "code",
   "execution_count": 50,
   "metadata": {},
   "outputs": [],
   "source": [
    "# tire le numéro du gobelet gagnant entre 1 et 3\n",
    "class Strategie(Enum):\n",
    "    idem = 1\n",
    "    alter = 2\n",
    "def tirage():\n",
    "    return random.randint(1,3)"
   ]
  },
  {
   "cell_type": "code",
   "execution_count": 101,
   "metadata": {},
   "outputs": [],
   "source": [
    "#### fonction qui retourne le gobelet restant en cas de chgmt de choix\n",
    "def gobrestant(tabgob, tiralea, chxj):\n",
    "    if tiralea == chxj:\n",
    "        tabgob.pop(tabgob.index(tiralea)) #retire de la liste celui qui est gagnant\n",
    "        tabgob.pop(random.randint(0,1)) #retire un des deux perdants au hasard\n",
    "    else:\n",
    "        tabgob.pop(tabgob.index(tiralea)) #retire de la liste celui qui est gagnant\n",
    "        tabgob.pop(tabgob.index(chxj)) #retire de la liste celui qu'il avait choisi\n",
    "    return tabgob[0] # retourne ce qu'il reste"
   ]
  },
  {
   "cell_type": "code",
   "execution_count": 102,
   "metadata": {},
   "outputs": [
    {
     "name": "stdout",
     "output_type": "stream",
     "text": [
      "1\n"
     ]
    }
   ],
   "source": [
    "tir = tirage()\n",
    "print(gobrestant([1,2,3],tir,tirage()))"
   ]
  },
  {
   "cell_type": "code",
   "execution_count": 105,
   "metadata": {},
   "outputs": [],
   "source": [
    "#### fonction qui retourne le résultat selon la stratégie -> numéro de gobelet\n",
    "def resultat(strat, tiralea):\n",
    "    choix_init = tirage()\n",
    "    if strat == Strategie.idem: # si le joueur garde son choix de départ\n",
    "        return choix_init == tiralea\n",
    "    elif strat == Strategie.alter: # si le joueur change de choix\n",
    "        return gobrestant([1,2,3],tiralea,choix_init) == tiralea\n",
    "    else:\n",
    "        print(\"Erreur de stratégie !\")"
   ]
  },
  {
   "cell_type": "code",
   "execution_count": 106,
   "metadata": {},
   "outputs": [
    {
     "name": "stdout",
     "output_type": "stream",
     "text": [
      "1 False\n"
     ]
    }
   ],
   "source": [
    "tir = tirage()\n",
    "print(tir,resultat(Strategie.idem, tirage()))"
   ]
  },
  {
   "cell_type": "code",
   "execution_count": 107,
   "metadata": {},
   "outputs": [],
   "source": [
    "#### fonction qui permet de calculer un tableau de résultats pour le joueur 1 ou 2\n",
    "def cohorte(nbe,strat):\n",
    "    tab = []\n",
    "    for i in range(0,nbe):\n",
    "        tiralea = tirage()\n",
    "        if resultat(strat, tiralea):\n",
    "            tab.append(1)\n",
    "        else:\n",
    "            tab.append(0)\n",
    "    return tab"
   ]
  },
  {
   "cell_type": "code",
   "execution_count": 108,
   "metadata": {},
   "outputs": [],
   "source": [
    "def compte(tabl):\n",
    "    cpt = 0\n",
    "    for i in range(0,len(tabl)):\n",
    "        cpt += tabl[i] \n",
    "    return (cpt, tabl)"
   ]
  },
  {
   "cell_type": "code",
   "execution_count": 109,
   "metadata": {},
   "outputs": [
    {
     "name": "stdout",
     "output_type": "stream",
     "text": [
      "[1, 0, 0, 1, 1, 1, 0, 1, 1, 1]\n",
      "[0, 0, 0, 0, 0, 0, 0, 0, 0, 0]\n"
     ]
    }
   ],
   "source": [
    "print(cohorte(10,Strategie.idem))\n",
    "print(cohorte(10,Strategie.alter))"
   ]
  },
  {
   "cell_type": "code",
   "execution_count": 145,
   "metadata": {},
   "outputs": [
    {
     "ename": "AttributeError",
     "evalue": "module 'random' has no attribute 'index'",
     "output_type": "error",
     "traceback": [
      "\u001b[1;31m---------------------------------------------------------------------------\u001b[0m",
      "\u001b[1;31mAttributeError\u001b[0m                            Traceback (most recent call last)",
      "\u001b[1;32m<ipython-input-145-416c81f05412>\u001b[0m in \u001b[0;36m<module>\u001b[1;34m()\u001b[0m\n\u001b[0;32m      2\u001b[0m \u001b[0mtir\u001b[0m \u001b[1;33m=\u001b[0m \u001b[0mtirage\u001b[0m\u001b[1;33m(\u001b[0m\u001b[1;33m)\u001b[0m\u001b[1;33m\u001b[0m\u001b[0m\n\u001b[0;32m      3\u001b[0m \u001b[0mchxj\u001b[0m \u001b[1;33m=\u001b[0m \u001b[0mtirage\u001b[0m\u001b[1;33m(\u001b[0m\u001b[1;33m)\u001b[0m\u001b[1;33m\u001b[0m\u001b[0m\n\u001b[1;32m----> 4\u001b[1;33m \u001b[0mgobrestant\u001b[0m\u001b[1;33m(\u001b[0m\u001b[0mmytab\u001b[0m\u001b[1;33m,\u001b[0m\u001b[0mtir\u001b[0m\u001b[1;33m,\u001b[0m\u001b[0mchxj\u001b[0m\u001b[1;33m)\u001b[0m\u001b[1;33m\u001b[0m\u001b[0m\n\u001b[0m",
      "\u001b[1;32m<ipython-input-139-52bb2a13fd6e>\u001b[0m in \u001b[0;36mgobrestant\u001b[1;34m(tabgob, tiralea, chxj)\u001b[0m\n\u001b[0;32m      5\u001b[0m     \u001b[1;32melse\u001b[0m\u001b[1;33m:\u001b[0m\u001b[1;33m\u001b[0m\u001b[0m\n\u001b[0;32m      6\u001b[0m         \u001b[0mtabgob\u001b[0m\u001b[1;33m.\u001b[0m\u001b[0mpop\u001b[0m\u001b[1;33m(\u001b[0m\u001b[0mtabgob\u001b[0m\u001b[1;33m.\u001b[0m\u001b[0mindex\u001b[0m\u001b[1;33m(\u001b[0m\u001b[0mtiralea\u001b[0m\u001b[1;33m)\u001b[0m\u001b[1;33m)\u001b[0m \u001b[1;31m#retire de la liste celui qui est gagnant\u001b[0m\u001b[1;33m\u001b[0m\u001b[0m\n\u001b[1;32m----> 7\u001b[1;33m         \u001b[0mtabgob\u001b[0m\u001b[1;33m.\u001b[0m\u001b[0mpop\u001b[0m\u001b[1;33m(\u001b[0m\u001b[0mrandom\u001b[0m\u001b[1;33m.\u001b[0m\u001b[0mindex\u001b[0m\u001b[1;33m(\u001b[0m\u001b[0mtiralea\u001b[0m\u001b[1;33m)\u001b[0m\u001b[1;33m)\u001b[0m \u001b[1;31m#retire de la liste celui qu'il avait choisi\u001b[0m\u001b[1;33m\u001b[0m\u001b[0m\n\u001b[0m\u001b[0;32m      8\u001b[0m     \u001b[1;32mreturn\u001b[0m \u001b[0mtabgob\u001b[0m\u001b[1;33m[\u001b[0m\u001b[1;36m0\u001b[0m\u001b[1;33m]\u001b[0m \u001b[1;31m# retourne le gobelet restant\u001b[0m\u001b[1;33m\u001b[0m\u001b[0m\n",
      "\u001b[1;31mAttributeError\u001b[0m: module 'random' has no attribute 'index'"
     ]
    }
   ],
   "source": []
  },
  {
   "cell_type": "code",
   "execution_count": 146,
   "metadata": {},
   "outputs": [
    {
     "name": "stdout",
     "output_type": "stream",
     "text": [
      "1\n"
     ]
    }
   ],
   "source": []
  },
  {
   "cell_type": "code",
   "execution_count": null,
   "metadata": {},
   "outputs": [],
   "source": []
  },
  {
   "cell_type": "code",
   "execution_count": null,
   "metadata": {},
   "outputs": [],
   "source": []
  }
 ],
 "metadata": {
  "kernelspec": {
   "display_name": "Python 3",
   "language": "python",
   "name": "python3"
  },
  "language_info": {
   "codemirror_mode": {
    "name": "ipython",
    "version": 3
   },
   "file_extension": ".py",
   "mimetype": "text/x-python",
   "name": "python",
   "nbconvert_exporter": "python",
   "pygments_lexer": "ipython3",
   "version": "3.7.0"
  }
 },
 "nbformat": 4,
 "nbformat_minor": 2
}
