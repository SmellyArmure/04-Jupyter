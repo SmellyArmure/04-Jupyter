{
 "cells": [
  {
   "cell_type": "code",
   "execution_count": 325,
   "metadata": {},
   "outputs": [
    {
     "name": "stdout",
     "output_type": "stream",
     "text": [
      "1 2 3\n"
     ]
    }
   ],
   "source": [
    "import random\n",
    "import matplotlib.pyplot as plt\n",
    "import numpy\n",
    "from random import seed, randint\n",
    "from enum import Enum\n",
    "# affiche les graphes dans le corps du notebook\n",
    "%matplotlib inline \n",
    "tabgob = range(1,4)\n",
    "print(tabgob[0],tabgob[1],tabgob[2])\n",
    "# donne la liste des numéros des trois gobelets possibles\n",
    "class Strategie(Enum):\n",
    "    idem = 1 # ne pas changer de choix\n",
    "    alter = 2 # changer de choix\n",
    "    alea = 3 # adopter aléatoirement une des deux stratégies ci-dessus\n",
    "# définit un classe stratégie"
   ]
  },
  {
   "cell_type": "code",
   "execution_count": 326,
   "metadata": {},
   "outputs": [],
   "source": [
    "# tire le numéro du gobelet gagnant entre 1 et 3\n",
    "def tirage():\n",
    "    return random.randint(1,3)"
   ]
  },
  {
   "cell_type": "code",
   "execution_count": 327,
   "metadata": {},
   "outputs": [],
   "source": [
    "#### fonction qui retourne le gobelet restant en cas de chgmt de choix\n",
    "def gobrestant(tabgob, tiralea, chxj):\n",
    "    tabgob.pop(tabgob.index(chxj)) # retire de la liste celui qu'il avait choisi\n",
    "    if tiralea == chxj:\n",
    "        return random.randint(0,1) # renvoie un des deux perdants au hasard\n",
    "    else:\n",
    "        return tiralea # renvoie le gagnant"
   ]
  },
  {
   "cell_type": "code",
   "execution_count": 328,
   "metadata": {},
   "outputs": [],
   "source": [
    "#### fonction qui retourne le résultat selon la stratégie\n",
    "def resultat(strat, tir, chx):\n",
    "    if strat == Strategie.alea: # si le joueur choisit aléatoirement sa stratégie\n",
    "        if random.randint(0,1) == 1:\n",
    "            strat = Strategie.alter\n",
    "        else:\n",
    "            strat = Strategie.idem\n",
    "    if strat == Strategie.idem: # si le joueur garde son choix de départ\n",
    "        return chx == tir\n",
    "    elif strat == Strategie.alter: # si le joueur change de choix\n",
    "        return gobrestant([1,2,3],tir,chx) == tir\n",
    "    else:\n",
    "        print(\"Erreur de stratégie !\")"
   ]
  },
  {
   "cell_type": "code",
   "execution_count": 329,
   "metadata": {},
   "outputs": [
    {
     "name": "stdout",
     "output_type": "stream",
     "text": [
      "1 2 1\n",
      "False\n",
      "True\n"
     ]
    }
   ],
   "source": [
    "#### test des principales fonctions\n",
    "tir = tirage()\n",
    "chx = tirage()\n",
    "print(tir,chx,gobrestant([1,2,3],tir,chx))\n",
    "print(resultat(Strategie.idem,tir,chx))\n",
    "print(resultat(Strategie.alter,tir,chx))"
   ]
  },
  {
   "cell_type": "code",
   "execution_count": 330,
   "metadata": {},
   "outputs": [],
   "source": [
    "#### fonction qui permet de calculer un tableau de résultats pour le joueur 1 ou 2\n",
    "#def cohorte(nbe,strat):\n",
    "#    tab = []\n",
    "#    for i in range(0,nbe):\n",
    "#        tiralea = tirage()\n",
    "#        if resultat(strat, tiralea):\n",
    "#            tab.append(1)\n",
    "#        else:\n",
    "#            tab.append(0)\n",
    "#    return tab\n",
    "\n",
    "#### Le même code que ci-dessus en bcp plus simple grâce à une compréhension de liste\n",
    "def cohorte(nbe,strat):\n",
    "    tab_tir = [tirage() for i in range(0,nbe)]\n",
    "    tab_chx = [tirage() for i in range(0,nbe)]\n",
    "    return [1 if resultat(strat, tab_tir[i], tab_chx[i]) else 0 for i in range(0,nbe)]"
   ]
  },
  {
   "cell_type": "code",
   "execution_count": 331,
   "metadata": {},
   "outputs": [],
   "source": [
    "ma_coh_idem = cohorte(100,Strategie.idem)\n",
    "ma_coh_alter = cohorte(100,Strategie.alter)\n",
    "ma_coh_alea = cohorte(100,Strategie.alea)"
   ]
  },
  {
   "cell_type": "code",
   "execution_count": 332,
   "metadata": {},
   "outputs": [
    {
     "name": "stdout",
     "output_type": "stream",
     "text": [
      "[0, 0, 1, 1, 1, 0, 1, 0, 1, 1, 0, 0, 0, 0, 0, 1, 0, 0, 0, 0, 0, 1, 1, 1, 0, 0, 0, 1, 1, 0, 0, 0, 0, 0, 0, 0, 1, 1, 0, 0, 0, 1, 1, 0, 1, 0, 0, 0, 0, 1, 0, 0, 0, 0, 0, 1, 1, 0, 0, 0, 1, 0, 0, 0, 1, 0, 0, 0, 1, 0, 0, 0, 1, 1, 0, 0, 0, 0, 0, 0, 1, 1, 0, 0, 0, 1, 0, 0, 1, 0, 1, 0, 0, 0, 0, 0, 0, 1, 0, 0] 31\n",
      "[1, 0, 1, 1, 1, 0, 1, 1, 1, 0, 1, 1, 1, 1, 0, 0, 1, 1, 1, 1, 1, 0, 0, 1, 1, 1, 1, 1, 0, 0, 1, 1, 0, 1, 1, 1, 1, 0, 0, 1, 1, 1, 0, 0, 1, 0, 1, 1, 0, 1, 0, 1, 1, 1, 1, 1, 1, 1, 1, 0, 0, 0, 1, 1, 1, 1, 0, 0, 1, 1, 1, 0, 1, 0, 1, 1, 1, 0, 1, 0, 0, 1, 0, 1, 0, 1, 1, 1, 1, 1, 1, 0, 1, 1, 1, 1, 1, 1, 1, 0] 69\n",
      "[0, 1, 1, 1, 0, 0, 1, 1, 1, 1, 0, 0, 1, 0, 0, 0, 0, 1, 0, 0, 1, 0, 0, 1, 0, 1, 1, 1, 0, 0, 0, 0, 1, 1, 1, 1, 0, 1, 0, 0, 0, 0, 0, 0, 1, 0, 1, 1, 1, 1, 1, 0, 0, 1, 0, 1, 1, 1, 1, 0, 1, 0, 0, 0, 0, 0, 0, 0, 0, 1, 0, 1, 1, 1, 0, 1, 1, 0, 1, 1, 0, 1, 1, 0, 1, 0, 1, 1, 0, 0, 0, 1, 1, 0, 0, 1, 1, 1, 0, 0] 49\n"
     ]
    }
   ],
   "source": [
    "print(ma_coh_idem,sum(ma_coh_idem))\n",
    "print(ma_coh_alter,sum(ma_coh_alter))\n",
    "print(ma_coh_alea,sum(ma_coh_alea))"
   ]
  },
  {
   "cell_type": "code",
   "execution_count": 345,
   "metadata": {},
   "outputs": [
    {
     "data": {
      "image/png": "[encoded data removed]",
      "text/plain": [
       "<Figure size 432x288 with 1 Axes>"
      ]
     },
     "metadata": {
      "needs_background": "light"
     },
     "output_type": "display_data"
    }
   ],
   "source": [
    "### trace le graphe des nbe de victoires en fonction du nombre d'essai pour les 3 stratégies\n",
    "effectifs=[10,50,100,200,500,1000]\n",
    "tab_coh_idem = [sum(cohorte(nbe,Strategie.idem)) for nbe in effectifs]\n",
    "tab_coh_alter = [sum(cohorte(nbe,Strategie.alter)) for nbe in effectifs]\n",
    "tab_coh_alea = [sum(cohorte(nbe,Strategie.alea)) for nbe in effectifs]\n",
    "figure = plt.figure()\n",
    "plot = plt.scatter(effectifs,tab_coh_idem)\n",
    "plot = plt.scatter(effectifs,tab_coh_alter)\n",
    "plot = plt.scatter(effectifs,tab_coh_alea)"
   ]
  },
  {
   "cell_type": "code",
   "execution_count": 344,
   "metadata": {},
   "outputs": [
    {
     "data": {
      "image/png": "[encoded data removed]",
      "text/plain": [
       "<Figure size 432x288 with 1 Axes>"
      ]
     },
     "metadata": {
      "needs_background": "light"
     },
     "output_type": "display_data"
    }
   ],
   "source": [
    "### trace le graphe du gain moyen en fonction du nombre d'essai pour les 3 stratégies\n",
    "esp_coh_idem = [sum(cohorte(nbe,Strategie.idem))/nbe for nbe in effectifs]\n",
    "esp_coh_alter = [sum(cohorte(nbe,Strategie.alter))/nbe for nbe in effectifs]\n",
    "esp_coh_alea = [sum(cohorte(nbe,Strategie.alea))/nbe for nbe in effectifs]\n",
    "figure = plt.figure()\n",
    "plot = plt.plot(effectifs,esp_coh_idem)\n",
    "plot = plt.plot(effectifs,esp_coh_alter)\n",
    "plot = plt.plot(effectifs,esp_coh_alea)"
   ]
  },
  {
   "cell_type": "code",
   "execution_count": 349,
   "metadata": {},
   "outputs": [
    {
     "data": {
      "image/png": "[encoded data removed]",
      "text/plain": [
       "<Figure size 432x288 with 1 Axes>"
      ]
     },
     "metadata": {
      "needs_background": "light"
     },
     "output_type": "display_data"
    }
   ],
   "source": [
    "### trace l'histogramme qui compare les gains moyens des 3 stratégies pour nbe essais\n",
    "nbe = 10000000\n",
    "plot = plt.bar([1,2,3], [sum(cohorte(nbe,Strategie.idem))/nbe, \\\n",
    "               sum(cohorte(nbe,Strategie.alter))/nbe, sum(cohorte(nbe,Strategie.alea))/nbe], \\\n",
    "              tick_label=[\"idem\", \"alter\", \"alea\"])"
   ]
  },
  {
   "cell_type": "code",
   "execution_count": null,
   "metadata": {},
   "outputs": [],
   "source": []
  }
 ],
 "metadata": {
  "kernelspec": {
   "display_name": "Python 3",
   "language": "python",
   "name": "python3"
  },
  "language_info": {
   "codemirror_mode": {
    "name": "ipython",
    "version": 3
   },
   "file_extension": ".py",
   "mimetype": "text/x-python",
   "name": "python",
   "nbconvert_exporter": "python",
   "pygments_lexer": "ipython3",
   "version": "3.7.0"
  }
 },
 "nbformat": 4,
 "nbformat_minor": 2
}
